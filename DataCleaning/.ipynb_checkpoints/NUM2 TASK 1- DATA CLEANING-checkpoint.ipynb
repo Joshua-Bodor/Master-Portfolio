{
 "cells": [
  {
   "cell_type": "markdown",
   "id": "f2834ff6",
   "metadata": {},
   "source": [
    "# Packages Required"
   ]
  },
  {
   "cell_type": "code",
   "execution_count": 1,
   "id": "4d5aed9f",
   "metadata": {},
   "outputs": [
    {
     "name": "stderr",
     "output_type": "stream",
     "text": [
      "\n",
      "Attaching package: 'dplyr'\n",
      "\n",
      "The following objects are masked from 'package:stats':\n",
      "\n",
      "    filter, lag\n",
      "\n",
      "The following objects are masked from 'package:base':\n",
      "\n",
      "    intersect, setdiff, setequal, union\n",
      "\n",
      "\n",
      "Attaching package: 'data.table'\n",
      "\n",
      "The following objects are masked from 'package:dplyr':\n",
      "\n",
      "    between, first, last\n",
      "\n"
     ]
    }
   ],
   "source": [
    "library(dplyr)\n",
    "library(mltools)\n",
    "library(data.table)"
   ]
  },
  {
   "cell_type": "markdown",
   "id": "d13cfe2e",
   "metadata": {},
   "source": [
    "The above warning simply indicates that the package 'dplyr' shares function names with some functions of base R and the R stats package and that the 'dplyr' package will provide the functions for filter, lag, intersect, setdiff, setequal, and union as oppossed to their definitions from base R or R stats respectively and that the 'mltools' package then also masks the functions between, first, and last from the package 'dplyr'."
   ]
  },
  {
   "cell_type": "markdown",
   "id": "d555e6d5",
   "metadata": {},
   "source": [
    "'dplyr' is required for the select() function used when dividing the raw data into selected and organized tables in the Dividing Tables section as well as for the inner_join() function used to recombine the divided tables into one dataset in the Recombining the Data section.\n",
    "\n",
    "'mltools' is used for the one_hot() function that one-hot encodes multi-class, categorical variables in the Data-Cleaning section. In order to perform this function,"
   ]
  },
  {
   "cell_type": "markdown",
   "id": "3b37f462",
   "metadata": {},
   "source": [
    "# Loading the Data and First Impressions"
   ]
  },
  {
   "cell_type": "code",
   "execution_count": 2,
   "id": "c4bb215b",
   "metadata": {},
   "outputs": [
    {
     "data": {
      "text/plain": [
       "       X           CaseOrder      Customer_id  \n",
       " Min.   :    1   Min.   :    1   A01882 :   1  \n",
       " 1st Qu.: 2501   1st Qu.: 2501   A02880 :   1  \n",
       " Median : 5000   Median : 5000   A03496 :   1  \n",
       " Mean   : 5000   Mean   : 5000   A04182 :   1  \n",
       " 3rd Qu.: 7500   3rd Qu.: 7500   A05530 :   1  \n",
       " Max.   :10000   Max.   :10000   A08637 :   1  \n",
       "                                 (Other):9994  \n",
       "                               Interaction  \n",
       " 0001dba2-59e1-43a7-ad99-647531de9efe:   1  \n",
       " 0019a5ff-a005-49f6-837f-5896e8da2e1c:   1  \n",
       " 0019f8df-fa72-48a8-bdf9-c5cbb9091709:   1  \n",
       " 002132f6-48de-454e-8060-f59566e24f2f:   1  \n",
       " 002e0f8b-2929-43cc-8f00-0a8675487362:   1  \n",
       " 00361875-c9a0-4117-8cd6-3a3d689d0c76:   1  \n",
       " (Other)                             :9994  \n",
       "                               UID                City          State     \n",
       " 000116de50ddc69ef21f946cac6c6389:   1   Houston    :  36   TX     : 553  \n",
       " 0005769c90289e51fb41fa41263463fc:   1   San Antonio:  26   CA     : 550  \n",
       " 000f61c39834b0cee16b8520b5dd66e3:   1   Springfield:  22   PA     : 547  \n",
       " 001bd0a85ecc8af4b82e559d8102260b:   1   Miami      :  21   NY     : 514  \n",
       " 001c0d524560f37b26b6b24c3dde3439:   1   New York   :  21   IL     : 442  \n",
       " 00295903e21d22aeadcf584561495551:   1   Atlanta    :  20   OH     : 383  \n",
       " (Other)                         :9994   (Other)    :9854   (Other):7011  \n",
       "         County          Zip             Lat             Lng         \n",
       " Jefferson  : 118   Min.   :  610   Min.   :17.97   Min.   :-174.21  \n",
       " Washington : 100   1st Qu.:27592   1st Qu.:35.26   1st Qu.: -97.35  \n",
       " Franklin   :  93   Median :50207   Median :39.42   Median : -88.40  \n",
       " Los Angeles:  88   Mean   :50159   Mean   :38.75   Mean   : -91.24  \n",
       " Montgomery :  80   3rd Qu.:72412   3rd Qu.:42.04   3rd Qu.: -80.44  \n",
       " Jackson    :  78   Max.   :99929   Max.   :70.56   Max.   : -65.29  \n",
       " (Other)    :9443                                                    \n",
       "   Population             Area                              Timezone   \n",
       " Min.   :     0.0   Rural   :3369   America/New_York            :3889  \n",
       " 1st Qu.:   694.8   Suburban:3328   America/Chicago             :3771  \n",
       " Median :  2769.0   Urban   :3303   America/Los_Angeles         : 937  \n",
       " Mean   :  9965.2                   America/Denver              : 612  \n",
       " 3rd Qu.: 13945.0                   America/Detroit             : 262  \n",
       " Max.   :122814.0                   America/Indiana/Indianapolis: 151  \n",
       "                                    (Other)                     : 378  \n",
       "                                   Job          Children           Age      \n",
       " Outdoor activities/education manager:  29   Min.   : 0.000   Min.   :18.0  \n",
       " Exhibition designer                 :  27   1st Qu.: 0.000   1st Qu.:35.0  \n",
       " Theatre director                    :  27   Median : 1.000   Median :53.0  \n",
       " Scientist, audiological             :  26   Mean   : 2.098   Mean   :53.3  \n",
       " Astronomer                          :  25   3rd Qu.: 3.000   3rd Qu.:71.0  \n",
       " Broadcast presenter                 :  25   Max.   :10.000   Max.   :89.0  \n",
       " (Other)                             :9841   NA's   :2588     NA's   :2414  \n",
       "                                    Education         Employment  \n",
       " Regular High School Diploma             :2444   Full Time :6029  \n",
       " Bachelor's Degree                       :1724   Part Time : 991  \n",
       " Some College, 1 or More Years, No Degree:1484   Retired   : 980  \n",
       " 9th Grade to 12th Grade, No Diploma     : 832   Student   :1017  \n",
       " Associate's Degree                      : 797   Unemployed: 983  \n",
       " Master's Degree                         : 701                    \n",
       " (Other)                                 :2018                    \n",
       "     Income                  Marital                      Gender     ReAdmis   \n",
       " Min.   :   154.1   Divorced     :1961   Female              :5018   No :6331  \n",
       " 1st Qu.: 19450.8   Married      :2023   Male                :4768   Yes:3669  \n",
       " Median : 33942.3   Never Married:1984   Prefer not to answer: 214             \n",
       " Mean   : 40484.4   Separated    :1987                                         \n",
       " 3rd Qu.: 54075.2   Widowed      :2045                                         \n",
       " Max.   :207249.1                                                              \n",
       " NA's   :2464                                                                  \n",
       "  VitD_levels       Doc_visits    Full_meals_eaten   VitD_supp      Soft_drink \n",
       " Min.   : 9.519   Min.   :1.000   Min.   :0.000    Min.   :0.0000   No  :5589  \n",
       " 1st Qu.:16.513   1st Qu.:4.000   1st Qu.:0.000    1st Qu.:0.0000   Yes :1944  \n",
       " Median :18.081   Median :5.000   Median :1.000    Median :0.0000   NA's:2467  \n",
       " Mean   :19.413   Mean   :5.012   Mean   :1.001    Mean   :0.3989              \n",
       " 3rd Qu.:19.790   3rd Qu.:6.000   3rd Qu.:2.000    3rd Qu.:1.0000              \n",
       " Max.   :53.019   Max.   :9.000   Max.   :7.000    Max.   :5.0000              \n",
       "                                                                               \n",
       "               Initial_admin  HighBlood  Stroke     Complication_risk\n",
       " Elective Admission   :2504   No :5910   No :8007   High  :3358      \n",
       " Emergency Admission  :5060   Yes:4090   Yes:1993   Low   :2125      \n",
       " Observation Admission:2436                         Medium:4517      \n",
       "                                                                     \n",
       "                                                                     \n",
       "                                                                     \n",
       "                                                                     \n",
       "   Overweight     Arthritis  Diabetes   Hyperlipidemia BackPain  \n",
       " Min.   :0.0000   No :6426   No :7262   No :6628       No :5886  \n",
       " 1st Qu.:0.0000   Yes:3574   Yes:2738   Yes:3372       Yes:4114  \n",
       " Median :1.0000                                                  \n",
       " Mean   :0.7091                                                  \n",
       " 3rd Qu.:1.0000                                                  \n",
       " Max.   :1.0000                                                  \n",
       " NA's   :982                                                     \n",
       "    Anxiety       Allergic_rhinitis Reflux_esophagitis Asthma    \n",
       " Min.   :0.0000   No :6059          No :5865           No :7107  \n",
       " 1st Qu.:0.0000   Yes:3941          Yes:4135           Yes:2893  \n",
       " Median :0.0000                                                  \n",
       " Mean   :0.3223                                                  \n",
       " 3rd Qu.:1.0000                                                  \n",
       " Max.   :1.0000                                                  \n",
       " NA's   :984                                                     \n",
       "        Services     Initial_days     TotalCharge    Additional_charges\n",
       " Blood Work :5265   Min.   : 1.002   Min.   : 1257   Min.   : 3126     \n",
       " CT Scan    :1225   1st Qu.: 7.912   1st Qu.: 3253   1st Qu.: 7986     \n",
       " Intravenous:3130   Median :34.447   Median : 5852   Median :11574     \n",
       " MRI        : 380   Mean   :34.432   Mean   : 5892   Mean   :12935     \n",
       "                    3rd Qu.:61.125   3rd Qu.: 7615   3rd Qu.:15626     \n",
       "                    Max.   :71.981   Max.   :21524   Max.   :30566     \n",
       "                    NA's   :1056                                       \n",
       "     Item1           Item2           Item3           Item4      \n",
       " Min.   :1.000   Min.   :1.000   Min.   :1.000   Min.   :1.000  \n",
       " 1st Qu.:3.000   1st Qu.:3.000   1st Qu.:3.000   1st Qu.:3.000  \n",
       " Median :4.000   Median :3.000   Median :4.000   Median :4.000  \n",
       " Mean   :3.519   Mean   :3.507   Mean   :3.511   Mean   :3.515  \n",
       " 3rd Qu.:4.000   3rd Qu.:4.000   3rd Qu.:4.000   3rd Qu.:4.000  \n",
       " Max.   :8.000   Max.   :7.000   Max.   :8.000   Max.   :7.000  \n",
       "                                                                \n",
       "     Item5           Item6           Item7           Item8     \n",
       " Min.   :1.000   Min.   :1.000   Min.   :1.000   Min.   :1.00  \n",
       " 1st Qu.:3.000   1st Qu.:3.000   1st Qu.:3.000   1st Qu.:3.00  \n",
       " Median :3.000   Median :4.000   Median :3.000   Median :3.00  \n",
       " Mean   :3.497   Mean   :3.522   Mean   :3.494   Mean   :3.51  \n",
       " 3rd Qu.:4.000   3rd Qu.:4.000   3rd Qu.:4.000   3rd Qu.:4.00  \n",
       " Max.   :7.000   Max.   :7.000   Max.   :7.000   Max.   :7.00  \n",
       "                                                               "
      ]
     },
     "metadata": {},
     "output_type": "display_data"
    }
   ],
   "source": [
    "med_raw_data <- read.csv(file=\"medical_raw_data.csv\")\n",
    "summary(med_raw_data)"
   ]
  },
  {
   "cell_type": "markdown",
   "id": "bb055ac7",
   "metadata": {},
   "source": [
    "The summary of the loaded data provides us a good deal of insight into the characteristics of the data. A summary of this information is provided in the Commentary column of the table in Part B of the accompanying write-up."
   ]
  },
  {
   "cell_type": "code",
   "execution_count": 3,
   "id": "2c1ad9ff",
   "metadata": {},
   "outputs": [
    {
     "data": {
      "image/png": "[encoded data removed]",
      "text/plain": [
       "plot without title"
      ]
     },
     "metadata": {},
     "output_type": "display_data"
    }
   ],
   "source": [
    "boxplot(med_raw_data$Age)"
   ]
  },
  {
   "cell_type": "markdown",
   "id": "5e2dea0f",
   "metadata": {},
   "source": [
    "We see that Age does not contain any outliers; however, we must remember that the lowest value is 18, giving us only information on adult patients. The research question should be amended to: \"Are patients over the age of 18 with specific characteristics, whether personal or medical, more likely to be readmitted than others?\""
   ]
  },
  {
   "cell_type": "markdown",
   "id": "fbc08eb3",
   "metadata": {},
   "source": [
    "# Dividing the Data"
   ]
  },
  {
   "cell_type": "code",
   "execution_count": 4,
   "id": "cf9ab40d",
   "metadata": {},
   "outputs": [
    {
     "data": {
      "text/plain": [
       "  Customer_id         Area               Marital    \n",
       " A01882 :   1   Rural   :3369   Divorced     :1961  \n",
       " A02880 :   1   Suburban:3328   Married      :2023  \n",
       " A03496 :   1   Urban   :3303   Never Married:1984  \n",
       " A04182 :   1                   Separated    :1987  \n",
       " A05530 :   1                   Widowed      :2045  \n",
       " A08637 :   1                                       \n",
       " (Other):9994                                       \n",
       "                  Gender    \n",
       " Female              :5018  \n",
       " Male                :4768  \n",
       " Prefer not to answer: 214  \n",
       "                            \n",
       "                            \n",
       "                            \n",
       "                            "
      ]
     },
     "metadata": {},
     "output_type": "display_data"
    }
   ],
   "source": [
    "data_1hot <- select(med_raw_data, Customer_id, Area, Marital, Gender)\n",
    "summary(data_1hot)"
   ]
  },
  {
   "cell_type": "markdown",
   "id": "5d8dbfc3",
   "metadata": {},
   "source": [
    "This table contains the variables that require encoding by a one-hot encoder which turns each category within a non-ordinal categorical variable into its own variable and assigns a value of 1 to the newly-created variable representing the category which was the value of the old variable and assigns a value of 0 to each other newly-created variable."
   ]
  },
  {
   "cell_type": "code",
   "execution_count": 5,
   "id": "e4b82276",
   "metadata": {},
   "outputs": [],
   "source": [
    "med_raw_data <- read.csv(file=\"medical_raw_data.csv\", stringsAsFactors=FALSE)"
   ]
  },
  {
   "cell_type": "markdown",
   "id": "d04ec6fb",
   "metadata": {},
   "source": [
    "Here, we must reload the data to ensure that any categorical variables are loaded as Characters rather than Factors. The one_hot() function requires the presence of Factors and the summary of Factor variables is more informative than a summary of Character variables. For the remaining transformations, Character variables are required for easier comparison."
   ]
  },
  {
   "cell_type": "code",
   "execution_count": 6,
   "id": "db611b1c",
   "metadata": {},
   "outputs": [
    {
     "data": {
      "text/plain": [
       " Customer_id             Age         Overweight        Anxiety      \n",
       " Length:10000       Min.   :18.0   Min.   :0.0000   Min.   :0.0000  \n",
       " Class :character   1st Qu.:35.0   1st Qu.:0.0000   1st Qu.:0.0000  \n",
       " Mode  :character   Median :53.0   Median :1.0000   Median :0.0000  \n",
       "                    Mean   :53.3   Mean   :0.7091   Mean   :0.3223  \n",
       "                    3rd Qu.:71.0   3rd Qu.:1.0000   3rd Qu.:1.0000  \n",
       "                    Max.   :89.0   Max.   :1.0000   Max.   :1.0000  \n",
       "                    NA's   :2414   NA's   :982      NA's   :984     "
      ]
     },
     "metadata": {},
     "output_type": "display_data"
    }
   ],
   "source": [
    "data_nulls <- select(med_raw_data, Customer_id, Age, Overweight, Anxiety)\n",
    "summary(data_nulls)"
   ]
  },
  {
   "cell_type": "markdown",
   "id": "66e42729",
   "metadata": {},
   "source": [
    "This table contains each variable that contains nulls. While \"Prefer not to answer\" could be considered a null value in the Gender variable, I have decided to leave it as an option in recognition of non-binary and gender-fluid persons."
   ]
  },
  {
   "cell_type": "code",
   "execution_count": 7,
   "id": "45384cbd",
   "metadata": {
    "scrolled": true
   },
   "outputs": [
    {
     "data": {
      "text/plain": [
       " Customer_id         Education          Employment        Complication_risk \n",
       " Length:10000       Length:10000       Length:10000       Length:10000      \n",
       " Class :character   Class :character   Class :character   Class :character  \n",
       " Mode  :character   Mode  :character   Mode  :character   Mode  :character  "
      ]
     },
     "metadata": {},
     "output_type": "display_data"
    }
   ],
   "source": [
    "data_ord <- select(med_raw_data, Customer_id, Education, Employment, Complication_risk)\n",
    "summary(data_ord)"
   ]
  },
  {
   "cell_type": "markdown",
   "id": "d6d88d34",
   "metadata": {},
   "source": [
    "This table contains categorical variables with ordinal categories, meaning those categories where the categories are not arbitrary and some are higher-value than others."
   ]
  },
  {
   "cell_type": "code",
   "execution_count": 8,
   "id": "40de0a65",
   "metadata": {},
   "outputs": [
    {
     "data": {
      "text/plain": [
       " Customer_id          ReAdmis           HighBlood            Stroke         \n",
       " Length:10000       Length:10000       Length:10000       Length:10000      \n",
       " Class :character   Class :character   Class :character   Class :character  \n",
       " Mode  :character   Mode  :character   Mode  :character   Mode  :character  \n",
       "  Arthritis           Diabetes         Hyperlipidemia       BackPain        \n",
       " Length:10000       Length:10000       Length:10000       Length:10000      \n",
       " Class :character   Class :character   Class :character   Class :character  \n",
       " Mode  :character   Mode  :character   Mode  :character   Mode  :character  \n",
       " Allergic_rhinitis  Reflux_esophagitis    Asthma         \n",
       " Length:10000       Length:10000       Length:10000      \n",
       " Class :character   Class :character   Class :character  \n",
       " Mode  :character   Mode  :character   Mode  :character  "
      ]
     },
     "metadata": {},
     "output_type": "display_data"
    }
   ],
   "source": [
    "data_yn <- select(med_raw_data, Customer_id, ReAdmis, HighBlood, Stroke, Arthritis, Diabetes, Hyperlipidemia, \n",
    "                  BackPain, Allergic_rhinitis, Reflux_esophagitis, Asthma)\n",
    "summary(data_yn)"
   ]
  },
  {
   "cell_type": "markdown",
   "id": "545af8e1",
   "metadata": {},
   "source": [
    "This table contains variables that contain only yes or no answers. For variables in this table, a null should be interpreted as a no response as it indicates a lack of a diagnoses. For these reasons, a one-hot encoder would be redundant and there is no required dropping or replacing of null values prior to encoding."
   ]
  },
  {
   "cell_type": "markdown",
   "id": "abbb4f30",
   "metadata": {},
   "source": [
    "# Data-Cleaning"
   ]
  },
  {
   "cell_type": "code",
   "execution_count": 9,
   "id": "e84b6cba",
   "metadata": {},
   "outputs": [
    {
     "data": {
      "text/plain": [
       " Customer_id             Age         Overweight        Anxiety      \n",
       " Length:7586        Min.   :18.0   Min.   :0.0000   Min.   :0.0000  \n",
       " Class :character   1st Qu.:35.0   1st Qu.:0.0000   1st Qu.:0.0000  \n",
       " Mode  :character   Median :53.0   Median :1.0000   Median :0.0000  \n",
       "                    Mean   :53.3   Mean   :0.7126   Mean   :0.3186  \n",
       "                    3rd Qu.:71.0   3rd Qu.:1.0000   3rd Qu.:1.0000  \n",
       "                    Max.   :89.0   Max.   :1.0000   Max.   :1.0000  \n",
       "                                   NA's   :750      NA's   :732     "
      ]
     },
     "metadata": {},
     "output_type": "display_data"
    }
   ],
   "source": [
    "data_nulls <- data_nulls[!is.na(data_nulls$Age),]\n",
    "summary(data_nulls)"
   ]
  },
  {
   "cell_type": "markdown",
   "id": "38a7e455",
   "metadata": {},
   "source": [
    "Here, we remove any entries that have no value for the age variable as any replacement value could skew the data in unforseen ways."
   ]
  },
  {
   "cell_type": "code",
   "execution_count": 10,
   "id": "99355171",
   "metadata": {},
   "outputs": [
    {
     "data": {
      "text/plain": [
       " Customer_id             Age         Overweight        Anxiety      \n",
       " Length:7586        Min.   :18.0   Min.   :0.0000   Min.   :0.0000  \n",
       " Class :character   1st Qu.:35.0   1st Qu.:0.0000   1st Qu.:0.0000  \n",
       " Mode  :character   Median :53.0   Median :1.0000   Median :0.0000  \n",
       "                    Mean   :53.3   Mean   :0.6421   Mean   :0.2879  \n",
       "                    3rd Qu.:71.0   3rd Qu.:1.0000   3rd Qu.:1.0000  \n",
       "                    Max.   :89.0   Max.   :1.0000   Max.   :1.0000  "
      ]
     },
     "metadata": {},
     "output_type": "display_data"
    }
   ],
   "source": [
    "i <- 0\n",
    "for (x in is.na(data_nulls$Anxiety)) {\n",
    "  i <- i + 1\n",
    "  if(x == TRUE) {\n",
    "    data_nulls[i, \"Anxiety\"] <- 0\n",
    "  }\n",
    "}\n",
    "\n",
    "i <- 0\n",
    "for (x in is.na(data_nulls$Overweight)) {\n",
    "  i <- i + 1\n",
    "  if(x == TRUE) {\n",
    "    data_nulls[i, \"Overweight\"] <- 0\n",
    "  }\n",
    "}\n",
    "summary(data_nulls)"
   ]
  },
  {
   "cell_type": "markdown",
   "id": "b3729833",
   "metadata": {},
   "source": [
    "Here we replace any null values with an answer equivalent to no in the numerical form, 0, for the Anxiety and Overweight variables. This is an acceptable transformation as a null response to a diagnosis indicates a lack of a diagnosis.\n",
    "\n",
    "This idea is better expressed mathematically:  \n",
    "\"No\" = !(\"Yes\") but \"Yes\" != !\"No\""
   ]
  },
  {
   "cell_type": "code",
   "execution_count": 11,
   "id": "2e46b024",
   "metadata": {},
   "outputs": [
    {
     "data": {
      "text/plain": [
       " Customer_id          Area_Rural     Area_Suburban      Area_Urban    \n",
       " Length:10000       Min.   :0.0000   Min.   :0.0000   Min.   :0.0000  \n",
       " Class :character   1st Qu.:0.0000   1st Qu.:0.0000   1st Qu.:0.0000  \n",
       " Mode  :character   Median :0.0000   Median :0.0000   Median :0.0000  \n",
       "                    Mean   :0.3369   Mean   :0.3328   Mean   :0.3303  \n",
       "                    3rd Qu.:1.0000   3rd Qu.:1.0000   3rd Qu.:1.0000  \n",
       "                    Max.   :1.0000   Max.   :1.0000   Max.   :1.0000  \n",
       " Marital_Divorced Marital_Married  Marital_Never Married Marital_Separated\n",
       " Min.   :0.0000   Min.   :0.0000   Min.   :0.0000        Min.   :0.0000   \n",
       " 1st Qu.:0.0000   1st Qu.:0.0000   1st Qu.:0.0000        1st Qu.:0.0000   \n",
       " Median :0.0000   Median :0.0000   Median :0.0000        Median :0.0000   \n",
       " Mean   :0.1961   Mean   :0.2023   Mean   :0.1984        Mean   :0.1987   \n",
       " 3rd Qu.:0.0000   3rd Qu.:0.0000   3rd Qu.:0.0000        3rd Qu.:0.0000   \n",
       " Max.   :1.0000   Max.   :1.0000   Max.   :1.0000        Max.   :1.0000   \n",
       " Marital_Widowed  Gender_Female     Gender_Male     Gender_Prefer not to answer\n",
       " Min.   :0.0000   Min.   :0.0000   Min.   :0.0000   Min.   :0.0000             \n",
       " 1st Qu.:0.0000   1st Qu.:0.0000   1st Qu.:0.0000   1st Qu.:0.0000             \n",
       " Median :0.0000   Median :1.0000   Median :0.0000   Median :0.0000             \n",
       " Mean   :0.2045   Mean   :0.5018   Mean   :0.4768   Mean   :0.0214             \n",
       " 3rd Qu.:0.0000   3rd Qu.:1.0000   3rd Qu.:1.0000   3rd Qu.:0.0000             \n",
       " Max.   :1.0000   Max.   :1.0000   Max.   :1.0000   Max.   :1.0000             "
      ]
     },
     "metadata": {},
     "output_type": "display_data"
    }
   ],
   "source": [
    "data_1hot <- one_hot(as.data.table(data_1hot), cols=c(\"Area\", \"Marital\", \"Gender\"))\n",
    "data_1hot$Customer_id <- as.character(data_1hot$Customer_id)\n",
    "summary(data_1hot)"
   ]
  },
  {
   "cell_type": "markdown",
   "id": "c0d09c76",
   "metadata": {},
   "source": [
    "Here, the one-hot encoder encodes the categorical variables as described above and we transform the character data into numbers."
   ]
  },
  {
   "cell_type": "code",
   "execution_count": 12,
   "id": "826df07a",
   "metadata": {},
   "outputs": [
    {
     "data": {
      "text/plain": [
       " Customer_id           ReAdmis         HighBlood         Stroke      \n",
       " Length:10000       Min.   :0.0000   Min.   :0.000   Min.   :0.0000  \n",
       " Class :character   1st Qu.:0.0000   1st Qu.:0.000   1st Qu.:0.0000  \n",
       " Mode  :character   Median :0.0000   Median :0.000   Median :0.0000  \n",
       "                    Mean   :0.3669   Mean   :0.409   Mean   :0.1993  \n",
       "                    3rd Qu.:1.0000   3rd Qu.:1.000   3rd Qu.:0.0000  \n",
       "                    Max.   :1.0000   Max.   :1.000   Max.   :1.0000  \n",
       "   Arthritis         Diabetes      Hyperlipidemia      BackPain     \n",
       " Min.   :0.0000   Min.   :0.0000   Min.   :0.0000   Min.   :0.0000  \n",
       " 1st Qu.:0.0000   1st Qu.:0.0000   1st Qu.:0.0000   1st Qu.:0.0000  \n",
       " Median :0.0000   Median :0.0000   Median :0.0000   Median :0.0000  \n",
       " Mean   :0.3574   Mean   :0.2738   Mean   :0.3372   Mean   :0.4114  \n",
       " 3rd Qu.:1.0000   3rd Qu.:1.0000   3rd Qu.:1.0000   3rd Qu.:1.0000  \n",
       " Max.   :1.0000   Max.   :1.0000   Max.   :1.0000   Max.   :1.0000  \n",
       " Allergic_rhinitis Reflux_esophagitis     Asthma      \n",
       " Min.   :0.0000    Min.   :0.0000     Min.   :0.0000  \n",
       " 1st Qu.:0.0000    1st Qu.:0.0000     1st Qu.:0.0000  \n",
       " Median :0.0000    Median :0.0000     Median :0.0000  \n",
       " Mean   :0.3941    Mean   :0.4135     Mean   :0.2893  \n",
       " 3rd Qu.:1.0000    3rd Qu.:1.0000     3rd Qu.:1.0000  \n",
       " Max.   :1.0000    Max.   :1.0000     Max.   :1.0000  "
      ]
     },
     "metadata": {},
     "output_type": "display_data"
    }
   ],
   "source": [
    "i <- 0\n",
    "for (x in data_yn$ReAdmis) {\n",
    "  i <- i + 1\n",
    "  if(x == \"Yes\") {\n",
    "    data_yn[i, \"ReAdmis\"] <- 1\n",
    "  } else {\n",
    "    data_yn[i, \"ReAdmis\"] <- 0\n",
    "  }\n",
    "}\n",
    "\n",
    "i <- 0\n",
    "for (x in data_yn$HighBlood) {\n",
    "  i <- i + 1\n",
    "  if(x == \"Yes\") {\n",
    "    data_yn[i, \"HighBlood\"] <- 1\n",
    "  } else {\n",
    "    data_yn[i, \"HighBlood\"] <- 0\n",
    "  }\n",
    "}\n",
    "\n",
    "i <- 0\n",
    "for (x in data_yn$Stroke) {\n",
    "  i <- i + 1\n",
    "  if(x == \"Yes\") {\n",
    "    data_yn[i, \"Stroke\"] <- 1\n",
    "  } else {\n",
    "    data_yn[i, \"Stroke\"] <- 0\n",
    "  }\n",
    "}\n",
    "\n",
    "i <- 0\n",
    "for (x in data_yn$Arthritis) {\n",
    "  i <- i + 1\n",
    "  if(x == \"Yes\") {\n",
    "    data_yn[i, \"Arthritis\"] <- 1\n",
    "  } else {\n",
    "    data_yn[i, \"Arthritis\"] <- 0\n",
    "  }\n",
    "}\n",
    "\n",
    "i <- 0\n",
    "for (x in data_yn$Diabetes) {\n",
    "  i <- i + 1\n",
    "  if(x == \"Yes\") {\n",
    "    data_yn[i, \"Diabetes\"] <- 1\n",
    "  } else {\n",
    "    data_yn[i, \"Diabetes\"] <- 0\n",
    "  }\n",
    "}\n",
    "\n",
    "i <- 0\n",
    "for (x in data_yn$Hyperlipidemia) {\n",
    "  i <- i + 1\n",
    "  if(x == \"Yes\") {\n",
    "    data_yn[i, \"Hyperlipidemia\"] <- 1\n",
    "  } else {\n",
    "    data_yn[i, \"Hyperlipidemia\"] <- 0\n",
    "  }\n",
    "}\n",
    "\n",
    "i <- 0\n",
    "for (x in data_yn$BackPain) {\n",
    "  i <- i + 1\n",
    "  if(x == \"Yes\") {\n",
    "    data_yn[i, \"BackPain\"] <- 1\n",
    "  } else {\n",
    "    data_yn[i, \"BackPain\"] <- 0\n",
    "  }\n",
    "}\n",
    "\n",
    "i <- 0\n",
    "for (x in data_yn$Allergic_rhinitis) {\n",
    "  i <- i + 1\n",
    "  if(x == \"Yes\") {\n",
    "    data_yn[i, \"Allergic_rhinitis\"] <- 1\n",
    "  } else {\n",
    "    data_yn[i, \"Allergic_rhinitis\"] <- 0\n",
    "  }\n",
    "}\n",
    "\n",
    "i <- 0\n",
    "for (x in data_yn$Reflux_esophagitis) {\n",
    "  i <- i + 1\n",
    "  if(x == \"Yes\") {\n",
    "    data_yn[i, \"Reflux_esophagitis\"] <- 1\n",
    "  } else {\n",
    "    data_yn[i, \"Reflux_esophagitis\"] <- 0\n",
    "  }\n",
    "}\n",
    "\n",
    "i <- 0\n",
    "for (x in data_yn$Asthma) {\n",
    "  i <- i + 1\n",
    "  if (x == \"Yes\") {\n",
    "    data_yn[i, \"Asthma\"] <- 1\n",
    "  } else {\n",
    "    data_yn[i, \"Asthma\"] <- 0\n",
    "  }\n",
    "}\n",
    "\n",
    "data_yn <- transform(data_yn, ReAdmis=as.numeric(ReAdmis),\n",
    "                              HighBlood=as.numeric(HighBlood), \n",
    "                              Stroke=as.numeric(Stroke),\n",
    "                              Arthritis=as.numeric(Arthritis), \n",
    "                              Diabetes=as.numeric(Diabetes), \n",
    "                              Hyperlipidemia=as.numeric(Hyperlipidemia), \n",
    "                              BackPain=as.numeric(BackPain), \n",
    "                              Allergic_rhinitis=as.numeric(Allergic_rhinitis), \n",
    "                              Reflux_esophagitis=as.numeric(Reflux_esophagitis), \n",
    "                              Asthma=as.numeric(Asthma))\n",
    "\n",
    "summary(data_yn)"
   ]
  },
  {
   "cell_type": "markdown",
   "id": "f2c90b89",
   "metadata": {},
   "source": [
    "Here, the yes or no responses are encoded and transformed into numerical datapoints."
   ]
  },
  {
   "cell_type": "code",
   "execution_count": 13,
   "id": "f003a670",
   "metadata": {},
   "outputs": [
    {
     "data": {
      "text/html": [
       "<ol class=list-inline>\n",
       "\t<li>'Some College, Less than 1 Year'</li>\n",
       "\t<li>'Some College, 1 or More Years, No Degree'</li>\n",
       "\t<li>'GED or Alternative Credential'</li>\n",
       "\t<li>'Regular High School Diploma'</li>\n",
       "\t<li>'Bachelor\\'s Degree'</li>\n",
       "\t<li>'Master\\'s Degree'</li>\n",
       "\t<li>'Nursery School to 8th Grade'</li>\n",
       "\t<li>'9th Grade to 12th Grade, No Diploma'</li>\n",
       "\t<li>'Doctorate Degree'</li>\n",
       "\t<li>'Associate\\'s Degree'</li>\n",
       "\t<li>'Professional School Degree'</li>\n",
       "\t<li>'No Schooling Completed'</li>\n",
       "</ol>\n"
      ],
      "text/latex": [
       "\\begin{enumerate*}\n",
       "\\item 'Some College, Less than 1 Year'\n",
       "\\item 'Some College, 1 or More Years, No Degree'\n",
       "\\item 'GED or Alternative Credential'\n",
       "\\item 'Regular High School Diploma'\n",
       "\\item 'Bachelor\\textbackslash{}'s Degree'\n",
       "\\item 'Master\\textbackslash{}'s Degree'\n",
       "\\item 'Nursery School to 8th Grade'\n",
       "\\item '9th Grade to 12th Grade, No Diploma'\n",
       "\\item 'Doctorate Degree'\n",
       "\\item 'Associate\\textbackslash{}'s Degree'\n",
       "\\item 'Professional School Degree'\n",
       "\\item 'No Schooling Completed'\n",
       "\\end{enumerate*}\n"
      ],
      "text/markdown": [
       "1. 'Some College, Less than 1 Year'\n",
       "2. 'Some College, 1 or More Years, No Degree'\n",
       "3. 'GED or Alternative Credential'\n",
       "4. 'Regular High School Diploma'\n",
       "5. 'Bachelor\\'s Degree'\n",
       "6. 'Master\\'s Degree'\n",
       "7. 'Nursery School to 8th Grade'\n",
       "8. '9th Grade to 12th Grade, No Diploma'\n",
       "9. 'Doctorate Degree'\n",
       "10. 'Associate\\'s Degree'\n",
       "11. 'Professional School Degree'\n",
       "12. 'No Schooling Completed'\n",
       "\n",
       "\n"
      ],
      "text/plain": [
       " [1] \"Some College, Less than 1 Year\"          \n",
       " [2] \"Some College, 1 or More Years, No Degree\"\n",
       " [3] \"GED or Alternative Credential\"           \n",
       " [4] \"Regular High School Diploma\"             \n",
       " [5] \"Bachelor's Degree\"                       \n",
       " [6] \"Master's Degree\"                         \n",
       " [7] \"Nursery School to 8th Grade\"             \n",
       " [8] \"9th Grade to 12th Grade, No Diploma\"     \n",
       " [9] \"Doctorate Degree\"                        \n",
       "[10] \"Associate's Degree\"                      \n",
       "[11] \"Professional School Degree\"              \n",
       "[12] \"No Schooling Completed\"                  "
      ]
     },
     "metadata": {},
     "output_type": "display_data"
    }
   ],
   "source": [
    "unique(data_ord$Education)"
   ]
  },
  {
   "cell_type": "markdown",
   "id": "3d76da35",
   "metadata": {},
   "source": [
    "The categories for Employment and Complication_risk can be seen in the initial summary of the data while the full list of categories for the Education variable is provided above by the unique() function."
   ]
  },
  {
   "cell_type": "code",
   "execution_count": 14,
   "id": "95eeb730",
   "metadata": {},
   "outputs": [
    {
     "data": {
      "text/plain": [
       " Customer_id          Education        Employment    Complication_risk\n",
       " Length:10000       Min.   : 0.000   Min.   :0.000   Min.   :0.0000   \n",
       " Class :character   1st Qu.: 4.000   1st Qu.:1.000   1st Qu.:0.5000   \n",
       " Mode  :character   Median : 6.000   Median :3.000   Median :0.5000   \n",
       "                    Mean   : 5.356   Mean   :2.207   Mean   :0.5616   \n",
       "                    3rd Qu.: 8.000   3rd Qu.:3.000   3rd Qu.:1.0000   \n",
       "                    Max.   :10.000   Max.   :3.000   Max.   :1.0000   "
      ]
     },
     "metadata": {},
     "output_type": "display_data"
    }
   ],
   "source": [
    "i <- 0\n",
    "for (x in data_ord$Complication_risk) {\n",
    "  i <- i + 1\n",
    "  if (x == \"Low\"){\n",
    "    data_ord[i, \"Complication_risk\"] <- 0\n",
    "  } else if (x == \"Medium\") {\n",
    "    data_ord[i, \"Complication_risk\"] <- 0.5\n",
    "  } else if (x == \"High\") {\n",
    "    data_ord[i, \"Complication_risk\"] <- 1\n",
    "  }\n",
    "}\n",
    "\n",
    "i <- 0\n",
    "for (x in data_ord$Education) {\n",
    "  i <- i + 1\n",
    "  if (x == \"No Schooling Completed\"){\n",
    "    data_ord[i, \"Education\"] <- 0\n",
    "  } else if (x == \"Nursery School to 8th Grade\") {\n",
    "    data_ord[i, \"Education\"] <- 1\n",
    "  } else if (x == \"9th Grade to 12th Grade, No Diploma\") {\n",
    "    data_ord[i, \"Education\"] <- 2\n",
    "  } else if (x == \"GED or Alternative Credential\") {\n",
    "    data_ord[i, \"Education\"] <- 3\n",
    "  } else if (x == \"Regular High School Diploma\") {\n",
    "    data_ord[i, \"Education\"] <- 4\n",
    "  } else if (x == \"Some College, Less than 1 Year\") {\n",
    "    data_ord[i, \"Education\"] <- 5\n",
    "  } else if (x == \"Some College, 1 or More Years, No Degree\") {\n",
    "    data_ord[i, \"Education\"] <- 6\n",
    "  } else if (x == \"Associate's Degree\") {\n",
    "    data_ord[i, \"Education\"] <- 7\n",
    "  } else if (x == \"Bachelor's Degree\") {\n",
    "    data_ord[i, \"Education\"] <- 8\n",
    "  } else if (x == \"Professional School Degree\") {\n",
    "    data_ord[i, \"Education\"] <- 8\n",
    "  } else if (x == \"Master's Degree\") {\n",
    "    data_ord[i, \"Education\"] <- 9\n",
    "  } else if (x == \"Doctorate Degree\") {\n",
    "    data_ord[i, \"Education\"] <- 10\n",
    "  }\n",
    "}\n",
    "\n",
    "i <- 0\n",
    "for (x in data_ord$Employment) {\n",
    "  i <- i + 1\n",
    "  if (x == \"Unemployed\"){\n",
    "    data_ord[i, \"Employment\"] <- 0\n",
    "  } else if (x == \"Student\") {\n",
    "    data_ord[i, \"Employment\"] <- 1\n",
    "  } else if (x == \"Retired\") {\n",
    "    data_ord[i, \"Employment\"] <- 1\n",
    "  } else if (x == \"Part Time\") {\n",
    "    data_ord[i, \"Employment\"] <- 2\n",
    "  } else if (x == \"Full Time\") {\n",
    "    data_ord[i, \"Employment\"] <- 3\n",
    "  }\n",
    "}\n",
    "\n",
    "data_ord <- transform(data_ord, Complication_risk=as.numeric(Complication_risk),\n",
    "                                Education=as.numeric(Education),\n",
    "                                Employment=as.numeric(Employment))\n",
    "\n",
    "summary(data_ord)"
   ]
  },
  {
   "cell_type": "markdown",
   "id": "a24d5acb",
   "metadata": {},
   "source": [
    "Here, the ordinal data is encoded and transformed to a numerical datapoint."
   ]
  },
  {
   "cell_type": "markdown",
   "id": "5fa50536",
   "metadata": {},
   "source": [
    "# Recombining the Data"
   ]
  },
  {
   "cell_type": "code",
   "execution_count": 15,
   "id": "02334eb5",
   "metadata": {},
   "outputs": [
    {
     "data": {
      "text/plain": [
       " Customer_id             Age         Overweight        Anxiety      \n",
       " Length:7586        Min.   :18.0   Min.   :0.0000   Min.   :0.0000  \n",
       " Class :character   1st Qu.:35.0   1st Qu.:0.0000   1st Qu.:0.0000  \n",
       " Mode  :character   Median :53.0   Median :1.0000   Median :0.0000  \n",
       "                    Mean   :53.3   Mean   :0.6421   Mean   :0.2879  \n",
       "                    3rd Qu.:71.0   3rd Qu.:1.0000   3rd Qu.:1.0000  \n",
       "                    Max.   :89.0   Max.   :1.0000   Max.   :1.0000  \n",
       "   Area_Rural     Area_Suburban      Area_Urban     Marital_Divorced\n",
       " Min.   :0.0000   Min.   :0.0000   Min.   :0.0000   Min.   :0.0000  \n",
       " 1st Qu.:0.0000   1st Qu.:0.0000   1st Qu.:0.0000   1st Qu.:0.0000  \n",
       " Median :0.0000   Median :0.0000   Median :0.0000   Median :0.0000  \n",
       " Mean   :0.3368   Mean   :0.3317   Mean   :0.3315   Mean   :0.1964  \n",
       " 3rd Qu.:1.0000   3rd Qu.:1.0000   3rd Qu.:1.0000   3rd Qu.:0.0000  \n",
       " Max.   :1.0000   Max.   :1.0000   Max.   :1.0000   Max.   :1.0000  \n",
       " Marital_Married  Marital_Never Married Marital_Separated Marital_Widowed \n",
       " Min.   :0.0000   Min.   :0.0000        Min.   :0.0       Min.   :0.0000  \n",
       " 1st Qu.:0.0000   1st Qu.:0.0000        1st Qu.:0.0       1st Qu.:0.0000  \n",
       " Median :0.0000   Median :0.0000        Median :0.0       Median :0.0000  \n",
       " Mean   :0.2012   Mean   :0.1976        Mean   :0.2       Mean   :0.2049  \n",
       " 3rd Qu.:0.0000   3rd Qu.:0.0000        3rd Qu.:0.0       3rd Qu.:0.0000  \n",
       " Max.   :1.0000   Max.   :1.0000        Max.   :1.0       Max.   :1.0000  \n",
       " Gender_Female    Gender_Male     Gender_Prefer not to answer   Education     \n",
       " Min.   :0.000   Min.   :0.0000   Min.   :0.00000             Min.   : 0.000  \n",
       " 1st Qu.:0.000   1st Qu.:0.0000   1st Qu.:0.00000             1st Qu.: 4.000  \n",
       " Median :1.000   Median :0.0000   Median :0.00000             Median : 5.500  \n",
       " Mean   :0.502   Mean   :0.4771   Mean   :0.02096             Mean   : 5.368  \n",
       " 3rd Qu.:1.000   3rd Qu.:1.0000   3rd Qu.:0.00000             3rd Qu.: 8.000  \n",
       " Max.   :1.000   Max.   :1.0000   Max.   :1.00000             Max.   :10.000  \n",
       "   Employment    Complication_risk    ReAdmis         HighBlood     \n",
       " Min.   :0.000   Min.   :0.0000    Min.   :0.0000   Min.   :0.0000  \n",
       " 1st Qu.:1.000   1st Qu.:0.5000    1st Qu.:0.0000   1st Qu.:0.0000  \n",
       " Median :3.000   Median :0.5000    Median :0.0000   Median :0.0000  \n",
       " Mean   :2.206   Mean   :0.5637    Mean   :0.3651   Mean   :0.4054  \n",
       " 3rd Qu.:3.000   3rd Qu.:1.0000    3rd Qu.:1.0000   3rd Qu.:1.0000  \n",
       " Max.   :3.000   Max.   :1.0000    Max.   :1.0000   Max.   :1.0000  \n",
       "     Stroke         Arthritis         Diabetes      Hyperlipidemia  \n",
       " Min.   :0.0000   Min.   :0.0000   Min.   :0.0000   Min.   :0.0000  \n",
       " 1st Qu.:0.0000   1st Qu.:0.0000   1st Qu.:0.0000   1st Qu.:0.0000  \n",
       " Median :0.0000   Median :0.0000   Median :0.0000   Median :0.0000  \n",
       " Mean   :0.1969   Mean   :0.3584   Mean   :0.2743   Mean   :0.3334  \n",
       " 3rd Qu.:0.0000   3rd Qu.:1.0000   3rd Qu.:1.0000   3rd Qu.:1.0000  \n",
       " Max.   :1.0000   Max.   :1.0000   Max.   :1.0000   Max.   :1.0000  \n",
       "    BackPain      Allergic_rhinitis Reflux_esophagitis     Asthma      \n",
       " Min.   :0.0000   Min.   :0.0000    Min.   :0.0000     Min.   :0.0000  \n",
       " 1st Qu.:0.0000   1st Qu.:0.0000    1st Qu.:0.0000     1st Qu.:0.0000  \n",
       " Median :0.0000   Median :0.0000    Median :0.0000     Median :0.0000  \n",
       " Mean   :0.4096   Mean   :0.3902    Mean   :0.4154     Mean   :0.2908  \n",
       " 3rd Qu.:1.0000   3rd Qu.:1.0000    3rd Qu.:1.0000     3rd Qu.:1.0000  \n",
       " Max.   :1.0000   Max.   :1.0000    Max.   :1.0000     Max.   :1.0000  "
      ]
     },
     "metadata": {},
     "output_type": "display_data"
    }
   ],
   "source": [
    "joined1 = inner_join(data_nulls, data_1hot, by=\"Customer_id\")\n",
    "joined2 = inner_join(data_ord, data_yn, by=\"Customer_id\")\n",
    "joined_tot = inner_join(joined1, joined2, by=\"Customer_id\")\n",
    "summary(joined_tot)"
   ]
  },
  {
   "cell_type": "markdown",
   "id": "a8b56506",
   "metadata": {},
   "source": [
    "Using the 'dsplyr' package, we recombined the seperate data tables with an inner-join, ensuring that the rows dropped earlier do not repopulate into the combined dataset by using the Customer_id as the join Index."
   ]
  },
  {
   "cell_type": "code",
   "execution_count": 16,
   "id": "ad87cd43",
   "metadata": {},
   "outputs": [],
   "source": [
    "standardize <- function(x){\n",
    "    (x-min(x))/(max(x)-min(x))\n",
    "}"
   ]
  },
  {
   "cell_type": "markdown",
   "id": "a74cdfef",
   "metadata": {},
   "source": [
    "Using the formula for standardization, we create a function which will standardize numerical data between zero and one."
   ]
  },
  {
   "cell_type": "code",
   "execution_count": 17,
   "id": "e49227f3",
   "metadata": {},
   "outputs": [
    {
     "data": {
      "text/plain": [
       " Customer_id             Age           Overweight        Anxiety      \n",
       " Length:7586        Min.   :0.0000   Min.   :0.0000   Min.   :0.0000  \n",
       " Class :character   1st Qu.:0.2394   1st Qu.:0.0000   1st Qu.:0.0000  \n",
       " Mode  :character   Median :0.4930   Median :1.0000   Median :0.0000  \n",
       "                    Mean   :0.4971   Mean   :0.6421   Mean   :0.2879  \n",
       "                    3rd Qu.:0.7465   3rd Qu.:1.0000   3rd Qu.:1.0000  \n",
       "                    Max.   :1.0000   Max.   :1.0000   Max.   :1.0000  \n",
       "   Area_Rural     Area_Suburban      Area_Urban     Marital_Divorced\n",
       " Min.   :0.0000   Min.   :0.0000   Min.   :0.0000   Min.   :0.0000  \n",
       " 1st Qu.:0.0000   1st Qu.:0.0000   1st Qu.:0.0000   1st Qu.:0.0000  \n",
       " Median :0.0000   Median :0.0000   Median :0.0000   Median :0.0000  \n",
       " Mean   :0.3368   Mean   :0.3317   Mean   :0.3315   Mean   :0.1964  \n",
       " 3rd Qu.:1.0000   3rd Qu.:1.0000   3rd Qu.:1.0000   3rd Qu.:0.0000  \n",
       " Max.   :1.0000   Max.   :1.0000   Max.   :1.0000   Max.   :1.0000  \n",
       " Marital_Married  Marital_Never Married Marital_Separated Marital_Widowed \n",
       " Min.   :0.0000   Min.   :0.0000        Min.   :0.0       Min.   :0.0000  \n",
       " 1st Qu.:0.0000   1st Qu.:0.0000        1st Qu.:0.0       1st Qu.:0.0000  \n",
       " Median :0.0000   Median :0.0000        Median :0.0       Median :0.0000  \n",
       " Mean   :0.2012   Mean   :0.1976        Mean   :0.2       Mean   :0.2049  \n",
       " 3rd Qu.:0.0000   3rd Qu.:0.0000        3rd Qu.:0.0       3rd Qu.:0.0000  \n",
       " Max.   :1.0000   Max.   :1.0000        Max.   :1.0       Max.   :1.0000  \n",
       " Gender_Female    Gender_Male     Gender_Prefer not to answer   Education     \n",
       " Min.   :0.000   Min.   :0.0000   Min.   :0.00000             Min.   :0.0000  \n",
       " 1st Qu.:0.000   1st Qu.:0.0000   1st Qu.:0.00000             1st Qu.:0.4000  \n",
       " Median :1.000   Median :0.0000   Median :0.00000             Median :0.5500  \n",
       " Mean   :0.502   Mean   :0.4771   Mean   :0.02096             Mean   :0.5368  \n",
       " 3rd Qu.:1.000   3rd Qu.:1.0000   3rd Qu.:0.00000             3rd Qu.:0.8000  \n",
       " Max.   :1.000   Max.   :1.0000   Max.   :1.00000             Max.   :1.0000  \n",
       "   Employment     Complication_risk    ReAdmis         HighBlood     \n",
       " Min.   :0.0000   Min.   :0.0000    Min.   :0.0000   Min.   :0.0000  \n",
       " 1st Qu.:0.3333   1st Qu.:0.5000    1st Qu.:0.0000   1st Qu.:0.0000  \n",
       " Median :1.0000   Median :0.5000    Median :0.0000   Median :0.0000  \n",
       " Mean   :0.7353   Mean   :0.5637    Mean   :0.3651   Mean   :0.4054  \n",
       " 3rd Qu.:1.0000   3rd Qu.:1.0000    3rd Qu.:1.0000   3rd Qu.:1.0000  \n",
       " Max.   :1.0000   Max.   :1.0000    Max.   :1.0000   Max.   :1.0000  \n",
       "     Stroke         Arthritis         Diabetes      Hyperlipidemia  \n",
       " Min.   :0.0000   Min.   :0.0000   Min.   :0.0000   Min.   :0.0000  \n",
       " 1st Qu.:0.0000   1st Qu.:0.0000   1st Qu.:0.0000   1st Qu.:0.0000  \n",
       " Median :0.0000   Median :0.0000   Median :0.0000   Median :0.0000  \n",
       " Mean   :0.1969   Mean   :0.3584   Mean   :0.2743   Mean   :0.3334  \n",
       " 3rd Qu.:0.0000   3rd Qu.:1.0000   3rd Qu.:1.0000   3rd Qu.:1.0000  \n",
       " Max.   :1.0000   Max.   :1.0000   Max.   :1.0000   Max.   :1.0000  \n",
       "    BackPain      Allergic_rhinitis Reflux_esophagitis     Asthma      \n",
       " Min.   :0.0000   Min.   :0.0000    Min.   :0.0000     Min.   :0.0000  \n",
       " 1st Qu.:0.0000   1st Qu.:0.0000    1st Qu.:0.0000     1st Qu.:0.0000  \n",
       " Median :0.0000   Median :0.0000    Median :0.0000     Median :0.0000  \n",
       " Mean   :0.4096   Mean   :0.3902    Mean   :0.4154     Mean   :0.2908  \n",
       " 3rd Qu.:1.0000   3rd Qu.:1.0000    3rd Qu.:1.0000     3rd Qu.:1.0000  \n",
       " Max.   :1.0000   Max.   :1.0000    Max.   :1.0000     Max.   :1.0000  "
      ]
     },
     "metadata": {},
     "output_type": "display_data"
    }
   ],
   "source": [
    "joined_tot$Age <- standardize(joined_tot$Age)\n",
    "joined_tot$Employment <- standardize(joined_tot$Employment)\n",
    "joined_tot$Education <- standardize(joined_tot$Education)\n",
    "\n",
    "summary(joined_tot)"
   ]
  },
  {
   "cell_type": "markdown",
   "id": "928faaf9",
   "metadata": {},
   "source": [
    "We standardize the remaining fields not between 0 and 1 to complete cleaning of the data.\n",
    "\n",
    "We are finally left with a dataset containing all of the variables which we started with in a numerical, standardized format which is ready to be explored."
   ]
  },
  {
   "cell_type": "markdown",
   "id": "664258b2",
   "metadata": {},
   "source": [
    "# Preview of Cleaned Dataset"
   ]
  },
  {
   "cell_type": "code",
   "execution_count": 18,
   "id": "abdcc119",
   "metadata": {},
   "outputs": [
    {
     "data": {
      "text/html": [
       "<table>\n",
       "<thead><tr><th scope=col>Customer_id</th><th scope=col>Age</th><th scope=col>Overweight</th><th scope=col>Anxiety</th><th scope=col>Area_Rural</th><th scope=col>Area_Suburban</th><th scope=col>Area_Urban</th><th scope=col>Marital_Divorced</th><th scope=col>Marital_Married</th><th scope=col>Marital_Never Married</th><th scope=col>...</th><th scope=col>ReAdmis</th><th scope=col>HighBlood</th><th scope=col>Stroke</th><th scope=col>Arthritis</th><th scope=col>Diabetes</th><th scope=col>Hyperlipidemia</th><th scope=col>BackPain</th><th scope=col>Allergic_rhinitis</th><th scope=col>Reflux_esophagitis</th><th scope=col>Asthma</th></tr></thead>\n",
       "<tbody>\n",
       "\t<tr><td>C412403   </td><td>0.49295775</td><td>0         </td><td>1         </td><td>0         </td><td>1         </td><td>0         </td><td>1         </td><td>0         </td><td>0         </td><td>...       </td><td>0         </td><td>1         </td><td>0         </td><td>1         </td><td>1         </td><td>0         </td><td>1         </td><td>1         </td><td>0         </td><td>1         </td></tr>\n",
       "\t<tr><td>Z919181   </td><td>0.46478873</td><td>1         </td><td>0         </td><td>0         </td><td>0         </td><td>1         </td><td>0         </td><td>1         </td><td>0         </td><td>...       </td><td>0         </td><td>1         </td><td>0         </td><td>0         </td><td>0         </td><td>0         </td><td>0         </td><td>0         </td><td>1         </td><td>0         </td></tr>\n",
       "\t<tr><td>F995323   </td><td>0.49295775</td><td>1         </td><td>0         </td><td>0         </td><td>1         </td><td>0         </td><td>0         </td><td>0         </td><td>0         </td><td>...       </td><td>0         </td><td>1         </td><td>0         </td><td>0         </td><td>1         </td><td>0         </td><td>0         </td><td>0         </td><td>0         </td><td>0         </td></tr>\n",
       "\t<tr><td>A879973   </td><td>0.84507042</td><td>0         </td><td>0         </td><td>0         </td><td>1         </td><td>0         </td><td>0         </td><td>1         </td><td>0         </td><td>...       </td><td>0         </td><td>0         </td><td>1         </td><td>1         </td><td>0         </td><td>0         </td><td>0         </td><td>0         </td><td>1         </td><td>1         </td></tr>\n",
       "\t<tr><td>C544523   </td><td>0.05633803</td><td>0         </td><td>0         </td><td>1         </td><td>0         </td><td>0         </td><td>0         </td><td>0         </td><td>0         </td><td>...       </td><td>0         </td><td>0         </td><td>0         </td><td>0         </td><td>0         </td><td>1         </td><td>0         </td><td>1         </td><td>0         </td><td>0         </td></tr>\n",
       "\t<tr><td>S543885   </td><td>0.81690141</td><td>1         </td><td>0         </td><td>0         </td><td>0         </td><td>1         </td><td>0         </td><td>0         </td><td>1         </td><td>...       </td><td>0         </td><td>0         </td><td>0         </td><td>1         </td><td>1         </td><td>0         </td><td>1         </td><td>1         </td><td>0         </td><td>0         </td></tr>\n",
       "\t<tr><td>E543302   </td><td>0.45070423</td><td>1         </td><td>1         </td><td>1         </td><td>0         </td><td>0         </td><td>0         </td><td>0         </td><td>1         </td><td>...       </td><td>0         </td><td>1         </td><td>0         </td><td>1         </td><td>1         </td><td>1         </td><td>1         </td><td>0         </td><td>1         </td><td>0         </td></tr>\n",
       "\t<tr><td>K477307   </td><td>0.30985915</td><td>1         </td><td>0         </td><td>0         </td><td>0         </td><td>1         </td><td>1         </td><td>0         </td><td>0         </td><td>...       </td><td>0         </td><td>0         </td><td>0         </td><td>0         </td><td>0         </td><td>0         </td><td>0         </td><td>0         </td><td>0         </td><td>0         </td></tr>\n",
       "\t<tr><td>Q870521   </td><td>0.42253521</td><td>1         </td><td>0         </td><td>0         </td><td>0         </td><td>1         </td><td>0         </td><td>0         </td><td>0         </td><td>...       </td><td>0         </td><td>0         </td><td>0         </td><td>0         </td><td>0         </td><td>1         </td><td>0         </td><td>0         </td><td>0         </td><td>0         </td></tr>\n",
       "\t<tr><td>Z229385   </td><td>0.84507042</td><td>1         </td><td>0         </td><td>0         </td><td>0         </td><td>1         </td><td>0         </td><td>0         </td><td>1         </td><td>...       </td><td>0         </td><td>1         </td><td>0         </td><td>0         </td><td>0         </td><td>0         </td><td>0         </td><td>1         </td><td>1         </td><td>1         </td></tr>\n",
       "\t<tr><td>V593392   </td><td>0.52112676</td><td>1         </td><td>0         </td><td>0         </td><td>0         </td><td>1         </td><td>0         </td><td>1         </td><td>0         </td><td>...       </td><td>0         </td><td>1         </td><td>0         </td><td>0         </td><td>0         </td><td>0         </td><td>1         </td><td>0         </td><td>1         </td><td>1         </td></tr>\n",
       "\t<tr><td>X459469   </td><td>0.64788732</td><td>1         </td><td>0         </td><td>0         </td><td>1         </td><td>0         </td><td>1         </td><td>0         </td><td>0         </td><td>...       </td><td>0         </td><td>1         </td><td>1         </td><td>0         </td><td>0         </td><td>0         </td><td>1         </td><td>1         </td><td>1         </td><td>0         </td></tr>\n",
       "\t<tr><td>N755131   </td><td>0.32394366</td><td>1         </td><td>1         </td><td>0         </td><td>0         </td><td>1         </td><td>0         </td><td>0         </td><td>0         </td><td>...       </td><td>0         </td><td>0         </td><td>0         </td><td>0         </td><td>1         </td><td>1         </td><td>0         </td><td>0         </td><td>0         </td><td>0         </td></tr>\n",
       "\t<tr><td>D550524   </td><td>0.38028169</td><td>0         </td><td>1         </td><td>0         </td><td>1         </td><td>0         </td><td>1         </td><td>0         </td><td>0         </td><td>...       </td><td>0         </td><td>0         </td><td>0         </td><td>0         </td><td>0         </td><td>1         </td><td>0         </td><td>0         </td><td>1         </td><td>0         </td></tr>\n",
       "\t<tr><td>T490287   </td><td>0.94366197</td><td>0         </td><td>1         </td><td>0         </td><td>1         </td><td>0         </td><td>1         </td><td>0         </td><td>0         </td><td>...       </td><td>0         </td><td>0         </td><td>0         </td><td>1         </td><td>0         </td><td>0         </td><td>1         </td><td>1         </td><td>0         </td><td>0         </td></tr>\n",
       "\t<tr><td>O377757   </td><td>0.36619718</td><td>1         </td><td>0         </td><td>0         </td><td>1         </td><td>0         </td><td>1         </td><td>0         </td><td>0         </td><td>...       </td><td>0         </td><td>0         </td><td>0         </td><td>0         </td><td>0         </td><td>0         </td><td>0         </td><td>0         </td><td>0         </td><td>0         </td></tr>\n",
       "\t<tr><td>I745784   </td><td>0.50704225</td><td>1         </td><td>0         </td><td>0         </td><td>1         </td><td>0         </td><td>0         </td><td>0         </td><td>1         </td><td>...       </td><td>0         </td><td>0         </td><td>1         </td><td>1         </td><td>1         </td><td>1         </td><td>1         </td><td>0         </td><td>1         </td><td>1         </td></tr>\n",
       "\t<tr><td>D139360   </td><td>0.76056338</td><td>0         </td><td>0         </td><td>1         </td><td>0         </td><td>0         </td><td>0         </td><td>0         </td><td>0         </td><td>...       </td><td>0         </td><td>1         </td><td>0         </td><td>1         </td><td>0         </td><td>0         </td><td>0         </td><td>1         </td><td>0         </td><td>0         </td></tr>\n",
       "\t<tr><td>Y964627   </td><td>0.92957746</td><td>1         </td><td>1         </td><td>0         </td><td>0         </td><td>1         </td><td>0         </td><td>0         </td><td>0         </td><td>...       </td><td>0         </td><td>0         </td><td>0         </td><td>1         </td><td>0         </td><td>1         </td><td>0         </td><td>0         </td><td>0         </td><td>1         </td></tr>\n",
       "\t<tr><td>J10137    </td><td>0.47887324</td><td>0         </td><td>1         </td><td>0         </td><td>0         </td><td>1         </td><td>0         </td><td>0         </td><td>0         </td><td>...       </td><td>0         </td><td>0         </td><td>0         </td><td>1         </td><td>0         </td><td>1         </td><td>1         </td><td>1         </td><td>1         </td><td>0         </td></tr>\n",
       "\t<tr><td>S147737   </td><td>0.18309859</td><td>0         </td><td>0         </td><td>0         </td><td>0         </td><td>1         </td><td>0         </td><td>0         </td><td>0         </td><td>...       </td><td>0         </td><td>1         </td><td>0         </td><td>1         </td><td>0         </td><td>1         </td><td>0         </td><td>0         </td><td>1         </td><td>0         </td></tr>\n",
       "\t<tr><td>K724599   </td><td>0.80281690</td><td>0         </td><td>0         </td><td>0         </td><td>1         </td><td>0         </td><td>0         </td><td>1         </td><td>0         </td><td>...       </td><td>0         </td><td>1         </td><td>0         </td><td>0         </td><td>1         </td><td>0         </td><td>1         </td><td>0         </td><td>0         </td><td>0         </td></tr>\n",
       "\t<tr><td>O199825   </td><td>0.42253521</td><td>0         </td><td>0         </td><td>1         </td><td>0         </td><td>0         </td><td>1         </td><td>0         </td><td>0         </td><td>...       </td><td>0         </td><td>0         </td><td>0         </td><td>1         </td><td>1         </td><td>0         </td><td>0         </td><td>0         </td><td>0         </td><td>1         </td></tr>\n",
       "\t<tr><td>M914791   </td><td>0.73239437</td><td>0         </td><td>0         </td><td>0         </td><td>0         </td><td>1         </td><td>1         </td><td>0         </td><td>0         </td><td>...       </td><td>0         </td><td>0         </td><td>0         </td><td>0         </td><td>0         </td><td>0         </td><td>0         </td><td>0         </td><td>1         </td><td>0         </td></tr>\n",
       "\t<tr><td>S496387   </td><td>0.53521127</td><td>1         </td><td>0         </td><td>1         </td><td>0         </td><td>0         </td><td>0         </td><td>0         </td><td>1         </td><td>...       </td><td>0         </td><td>0         </td><td>0         </td><td>0         </td><td>0         </td><td>1         </td><td>1         </td><td>1         </td><td>0         </td><td>0         </td></tr>\n",
       "\t<tr><td>C965691   </td><td>0.19718310</td><td>1         </td><td>0         </td><td>0         </td><td>0         </td><td>1         </td><td>0         </td><td>0         </td><td>0         </td><td>...       </td><td>0         </td><td>1         </td><td>0         </td><td>0         </td><td>0         </td><td>1         </td><td>1         </td><td>0         </td><td>1         </td><td>0         </td></tr>\n",
       "\t<tr><td>S11597    </td><td>0.84507042</td><td>1         </td><td>0         </td><td>0         </td><td>1         </td><td>0         </td><td>1         </td><td>0         </td><td>0         </td><td>...       </td><td>0         </td><td>0         </td><td>0         </td><td>0         </td><td>0         </td><td>1         </td><td>0         </td><td>0         </td><td>0         </td><td>0         </td></tr>\n",
       "\t<tr><td>Q95928    </td><td>0.95774648</td><td>1         </td><td>0         </td><td>1         </td><td>0         </td><td>0         </td><td>1         </td><td>0         </td><td>0         </td><td>...       </td><td>0         </td><td>0         </td><td>0         </td><td>0         </td><td>0         </td><td>0         </td><td>1         </td><td>0         </td><td>0         </td><td>0         </td></tr>\n",
       "\t<tr><td>E326865   </td><td>0.66197183</td><td>1         </td><td>1         </td><td>1         </td><td>0         </td><td>0         </td><td>0         </td><td>0         </td><td>1         </td><td>...       </td><td>0         </td><td>0         </td><td>0         </td><td>0         </td><td>0         </td><td>1         </td><td>1         </td><td>0         </td><td>0         </td><td>1         </td></tr>\n",
       "\t<tr><td>K669792   </td><td>0.73239437</td><td>0         </td><td>0         </td><td>0         </td><td>1         </td><td>0         </td><td>0         </td><td>1         </td><td>0         </td><td>...       </td><td>0         </td><td>0         </td><td>1         </td><td>0         </td><td>1         </td><td>0         </td><td>1         </td><td>0         </td><td>0         </td><td>0         </td></tr>\n",
       "\t<tr><td>...</td><td>...</td><td>...</td><td>...</td><td>...</td><td>...</td><td>...</td><td>...</td><td>...</td><td>...</td><td>   </td><td>...</td><td>...</td><td>...</td><td>...</td><td>...</td><td>...</td><td>...</td><td>...</td><td>...</td><td>...</td></tr>\n",
       "\t<tr><td>D30724    </td><td>0.54929577</td><td>1         </td><td>1         </td><td>0         </td><td>1         </td><td>0         </td><td>0         </td><td>0         </td><td>1         </td><td>...       </td><td>1         </td><td>1         </td><td>0         </td><td>1         </td><td>0         </td><td>1         </td><td>0         </td><td>0         </td><td>1         </td><td>0         </td></tr>\n",
       "\t<tr><td>Y380004   </td><td>0.15492958</td><td>1         </td><td>1         </td><td>1         </td><td>0         </td><td>0         </td><td>0         </td><td>0         </td><td>0         </td><td>...       </td><td>1         </td><td>1         </td><td>1         </td><td>0         </td><td>0         </td><td>1         </td><td>0         </td><td>0         </td><td>0         </td><td>1         </td></tr>\n",
       "\t<tr><td>W296188   </td><td>0.42253521</td><td>0         </td><td>1         </td><td>1         </td><td>0         </td><td>0         </td><td>1         </td><td>0         </td><td>0         </td><td>...       </td><td>0         </td><td>0         </td><td>0         </td><td>0         </td><td>0         </td><td>0         </td><td>0         </td><td>0         </td><td>1         </td><td>1         </td></tr>\n",
       "\t<tr><td>N684717   </td><td>0.42253521</td><td>1         </td><td>0         </td><td>0         </td><td>0         </td><td>1         </td><td>0         </td><td>1         </td><td>0         </td><td>...       </td><td>1         </td><td>0         </td><td>0         </td><td>0         </td><td>1         </td><td>1         </td><td>0         </td><td>1         </td><td>0         </td><td>1         </td></tr>\n",
       "\t<tr><td>L462857   </td><td>0.46478873</td><td>0         </td><td>0         </td><td>0         </td><td>1         </td><td>0         </td><td>0         </td><td>0         </td><td>0         </td><td>...       </td><td>1         </td><td>1         </td><td>0         </td><td>0         </td><td>1         </td><td>0         </td><td>0         </td><td>0         </td><td>0         </td><td>1         </td></tr>\n",
       "\t<tr><td>L241563   </td><td>0.08450704</td><td>1         </td><td>0         </td><td>0         </td><td>0         </td><td>1         </td><td>0         </td><td>0         </td><td>0         </td><td>...       </td><td>1         </td><td>1         </td><td>1         </td><td>0         </td><td>1         </td><td>1         </td><td>1         </td><td>0         </td><td>0         </td><td>1         </td></tr>\n",
       "\t<tr><td>G350255   </td><td>0.29577465</td><td>1         </td><td>0         </td><td>0         </td><td>1         </td><td>0         </td><td>1         </td><td>0         </td><td>0         </td><td>...       </td><td>1         </td><td>0         </td><td>1         </td><td>1         </td><td>0         </td><td>0         </td><td>0         </td><td>1         </td><td>0         </td><td>0         </td></tr>\n",
       "\t<tr><td>F162098   </td><td>0.61971831</td><td>0         </td><td>1         </td><td>0         </td><td>0         </td><td>1         </td><td>1         </td><td>0         </td><td>0         </td><td>...       </td><td>1         </td><td>1         </td><td>1         </td><td>0         </td><td>1         </td><td>0         </td><td>0         </td><td>0         </td><td>0         </td><td>0         </td></tr>\n",
       "\t<tr><td>F450521   </td><td>0.14084507</td><td>1         </td><td>0         </td><td>0         </td><td>1         </td><td>0         </td><td>0         </td><td>0         </td><td>0         </td><td>...       </td><td>1         </td><td>0         </td><td>0         </td><td>0         </td><td>0         </td><td>1         </td><td>1         </td><td>0         </td><td>1         </td><td>0         </td></tr>\n",
       "\t<tr><td>P861904   </td><td>0.26760563</td><td>0         </td><td>0         </td><td>1         </td><td>0         </td><td>0         </td><td>0         </td><td>1         </td><td>0         </td><td>...       </td><td>0         </td><td>0         </td><td>0         </td><td>1         </td><td>0         </td><td>0         </td><td>0         </td><td>1         </td><td>0         </td><td>0         </td></tr>\n",
       "\t<tr><td>K874758   </td><td>0.56338028</td><td>1         </td><td>0         </td><td>0         </td><td>1         </td><td>0         </td><td>0         </td><td>0         </td><td>0         </td><td>...       </td><td>0         </td><td>0         </td><td>0         </td><td>0         </td><td>0         </td><td>0         </td><td>0         </td><td>0         </td><td>0         </td><td>0         </td></tr>\n",
       "\t<tr><td>L875086   </td><td>0.00000000</td><td>1         </td><td>0         </td><td>1         </td><td>0         </td><td>0         </td><td>0         </td><td>0         </td><td>1         </td><td>...       </td><td>1         </td><td>0         </td><td>1         </td><td>0         </td><td>0         </td><td>0         </td><td>0         </td><td>0         </td><td>0         </td><td>1         </td></tr>\n",
       "\t<tr><td>U876816   </td><td>0.38028169</td><td>0         </td><td>0         </td><td>0         </td><td>1         </td><td>0         </td><td>0         </td><td>1         </td><td>0         </td><td>...       </td><td>1         </td><td>0         </td><td>0         </td><td>1         </td><td>0         </td><td>0         </td><td>1         </td><td>1         </td><td>0         </td><td>0         </td></tr>\n",
       "\t<tr><td>G252027   </td><td>0.38028169</td><td>0         </td><td>1         </td><td>0         </td><td>1         </td><td>0         </td><td>0         </td><td>0         </td><td>0         </td><td>...       </td><td>1         </td><td>1         </td><td>0         </td><td>0         </td><td>0         </td><td>0         </td><td>1         </td><td>0         </td><td>1         </td><td>0         </td></tr>\n",
       "\t<tr><td>J280152   </td><td>0.78873239</td><td>1         </td><td>0         </td><td>1         </td><td>0         </td><td>0         </td><td>0         </td><td>0         </td><td>0         </td><td>...       </td><td>1         </td><td>1         </td><td>0         </td><td>0         </td><td>0         </td><td>1         </td><td>0         </td><td>0         </td><td>0         </td><td>1         </td></tr>\n",
       "\t<tr><td>N576321   </td><td>0.08450704</td><td>1         </td><td>1         </td><td>0         </td><td>1         </td><td>0         </td><td>0         </td><td>0         </td><td>1         </td><td>...       </td><td>1         </td><td>0         </td><td>0         </td><td>0         </td><td>0         </td><td>0         </td><td>0         </td><td>1         </td><td>1         </td><td>0         </td></tr>\n",
       "\t<tr><td>L948946   </td><td>0.02816901</td><td>0         </td><td>0         </td><td>0         </td><td>0         </td><td>1         </td><td>0         </td><td>0         </td><td>0         </td><td>...       </td><td>0         </td><td>1         </td><td>1         </td><td>0         </td><td>0         </td><td>0         </td><td>0         </td><td>0         </td><td>1         </td><td>0         </td></tr>\n",
       "\t<tr><td>S614832   </td><td>0.21126761</td><td>1         </td><td>1         </td><td>0         </td><td>0         </td><td>1         </td><td>0         </td><td>0         </td><td>1         </td><td>...       </td><td>0         </td><td>0         </td><td>1         </td><td>0         </td><td>0         </td><td>1         </td><td>1         </td><td>1         </td><td>0         </td><td>0         </td></tr>\n",
       "\t<tr><td>O64996    </td><td>0.40845070</td><td>1         </td><td>0         </td><td>1         </td><td>0         </td><td>0         </td><td>0         </td><td>0         </td><td>0         </td><td>...       </td><td>1         </td><td>1         </td><td>0         </td><td>0         </td><td>0         </td><td>1         </td><td>1         </td><td>0         </td><td>0         </td><td>0         </td></tr>\n",
       "\t<tr><td>X601497   </td><td>0.28169014</td><td>1         </td><td>0         </td><td>0         </td><td>1         </td><td>0         </td><td>0         </td><td>0         </td><td>0         </td><td>...       </td><td>1         </td><td>1         </td><td>1         </td><td>0         </td><td>0         </td><td>1         </td><td>0         </td><td>0         </td><td>1         </td><td>0         </td></tr>\n",
       "\t<tr><td>B175022   </td><td>0.36619718</td><td>1         </td><td>1         </td><td>0         </td><td>1         </td><td>0         </td><td>0         </td><td>1         </td><td>0         </td><td>...       </td><td>1         </td><td>0         </td><td>0         </td><td>1         </td><td>0         </td><td>0         </td><td>0         </td><td>1         </td><td>1         </td><td>0         </td></tr>\n",
       "\t<tr><td>H670760   </td><td>0.73239437</td><td>1         </td><td>0         </td><td>0         </td><td>1         </td><td>0         </td><td>1         </td><td>0         </td><td>0         </td><td>...       </td><td>1         </td><td>1         </td><td>0         </td><td>1         </td><td>0         </td><td>0         </td><td>1         </td><td>0         </td><td>0         </td><td>0         </td></tr>\n",
       "\t<tr><td>B610309   </td><td>0.77464789</td><td>1         </td><td>1         </td><td>0         </td><td>1         </td><td>0         </td><td>0         </td><td>0         </td><td>1         </td><td>...       </td><td>1         </td><td>0         </td><td>1         </td><td>0         </td><td>0         </td><td>0         </td><td>0         </td><td>0         </td><td>1         </td><td>1         </td></tr>\n",
       "\t<tr><td>L715446   </td><td>0.60563380</td><td>1         </td><td>1         </td><td>0         </td><td>0         </td><td>1         </td><td>0         </td><td>0         </td><td>0         </td><td>...       </td><td>1         </td><td>0         </td><td>1         </td><td>0         </td><td>0         </td><td>1         </td><td>0         </td><td>1         </td><td>0         </td><td>1         </td></tr>\n",
       "\t<tr><td>T523588   </td><td>0.45070423</td><td>0         </td><td>0         </td><td>1         </td><td>0         </td><td>0         </td><td>0         </td><td>1         </td><td>0         </td><td>...       </td><td>1         </td><td>1         </td><td>0         </td><td>1         </td><td>1         </td><td>1         </td><td>0         </td><td>1         </td><td>1         </td><td>1         </td></tr>\n",
       "\t<tr><td>Q117805   </td><td>0.91549296</td><td>1         </td><td>0         </td><td>0         </td><td>0         </td><td>1         </td><td>0         </td><td>1         </td><td>0         </td><td>...       </td><td>0         </td><td>1         </td><td>0         </td><td>0         </td><td>0         </td><td>1         </td><td>0         </td><td>0         </td><td>0         </td><td>0         </td></tr>\n",
       "\t<tr><td>M583491   </td><td>0.71830986</td><td>0         </td><td>0         </td><td>0         </td><td>0         </td><td>1         </td><td>0         </td><td>0         </td><td>0         </td><td>...       </td><td>0         </td><td>0         </td><td>0         </td><td>1         </td><td>0         </td><td>0         </td><td>0         </td><td>0         </td><td>1         </td><td>1         </td></tr>\n",
       "\t<tr><td>B863060   </td><td>0.09859155</td><td>0         </td><td>1         </td><td>0         </td><td>0         </td><td>1         </td><td>0         </td><td>0         </td><td>0         </td><td>...       </td><td>0         </td><td>1         </td><td>0         </td><td>0         </td><td>0         </td><td>0         </td><td>0         </td><td>0         </td><td>1         </td><td>0         </td></tr>\n",
       "\t<tr><td>P712040   </td><td>0.97183099</td><td>1         </td><td>0         </td><td>0         </td><td>0         </td><td>1         </td><td>0         </td><td>0         </td><td>0         </td><td>...       </td><td>1         </td><td>1         </td><td>0         </td><td>1         </td><td>1         </td><td>0         </td><td>0         </td><td>0         </td><td>0         </td><td>1         </td></tr>\n",
       "\t<tr><td>E344109   </td><td>0.35211268</td><td>1         </td><td>0         </td><td>1         </td><td>0         </td><td>0         </td><td>1         </td><td>0         </td><td>0         </td><td>...       </td><td>1         </td><td>0         </td><td>0         </td><td>0         </td><td>0         </td><td>0         </td><td>1         </td><td>0         </td><td>0         </td><td>0         </td></tr>\n",
       "</tbody>\n",
       "</table>\n"
      ],
      "text/latex": [
       "\\begin{tabular}{r|llllllllllllllllllllllllllll}\n",
       " Customer\\_id & Age & Overweight & Anxiety & Area\\_Rural & Area\\_Suburban & Area\\_Urban & Marital\\_Divorced & Marital\\_Married & Marital\\_Never Married & ... & ReAdmis & HighBlood & Stroke & Arthritis & Diabetes & Hyperlipidemia & BackPain & Allergic\\_rhinitis & Reflux\\_esophagitis & Asthma\\\\\n",
       "\\hline\n",
       "\t C412403    & 0.49295775 & 0          & 1          & 0          & 1          & 0          & 1          & 0          & 0          & ...        & 0          & 1          & 0          & 1          & 1          & 0          & 1          & 1          & 0          & 1         \\\\\n",
       "\t Z919181    & 0.46478873 & 1          & 0          & 0          & 0          & 1          & 0          & 1          & 0          & ...        & 0          & 1          & 0          & 0          & 0          & 0          & 0          & 0          & 1          & 0         \\\\\n",
       "\t F995323    & 0.49295775 & 1          & 0          & 0          & 1          & 0          & 0          & 0          & 0          & ...        & 0          & 1          & 0          & 0          & 1          & 0          & 0          & 0          & 0          & 0         \\\\\n",
       "\t A879973    & 0.84507042 & 0          & 0          & 0          & 1          & 0          & 0          & 1          & 0          & ...        & 0          & 0          & 1          & 1          & 0          & 0          & 0          & 0          & 1          & 1         \\\\\n",
       "\t C544523    & 0.05633803 & 0          & 0          & 1          & 0          & 0          & 0          & 0          & 0          & ...        & 0          & 0          & 0          & 0          & 0          & 1          & 0          & 1          & 0          & 0         \\\\\n",
       "\t S543885    & 0.81690141 & 1          & 0          & 0          & 0          & 1          & 0          & 0          & 1          & ...        & 0          & 0          & 0          & 1          & 1          & 0          & 1          & 1          & 0          & 0         \\\\\n",
       "\t E543302    & 0.45070423 & 1          & 1          & 1          & 0          & 0          & 0          & 0          & 1          & ...        & 0          & 1          & 0          & 1          & 1          & 1          & 1          & 0          & 1          & 0         \\\\\n",
       "\t K477307    & 0.30985915 & 1          & 0          & 0          & 0          & 1          & 1          & 0          & 0          & ...        & 0          & 0          & 0          & 0          & 0          & 0          & 0          & 0          & 0          & 0         \\\\\n",
       "\t Q870521    & 0.42253521 & 1          & 0          & 0          & 0          & 1          & 0          & 0          & 0          & ...        & 0          & 0          & 0          & 0          & 0          & 1          & 0          & 0          & 0          & 0         \\\\\n",
       "\t Z229385    & 0.84507042 & 1          & 0          & 0          & 0          & 1          & 0          & 0          & 1          & ...        & 0          & 1          & 0          & 0          & 0          & 0          & 0          & 1          & 1          & 1         \\\\\n",
       "\t V593392    & 0.52112676 & 1          & 0          & 0          & 0          & 1          & 0          & 1          & 0          & ...        & 0          & 1          & 0          & 0          & 0          & 0          & 1          & 0          & 1          & 1         \\\\\n",
       "\t X459469    & 0.64788732 & 1          & 0          & 0          & 1          & 0          & 1          & 0          & 0          & ...        & 0          & 1          & 1          & 0          & 0          & 0          & 1          & 1          & 1          & 0         \\\\\n",
       "\t N755131    & 0.32394366 & 1          & 1          & 0          & 0          & 1          & 0          & 0          & 0          & ...        & 0          & 0          & 0          & 0          & 1          & 1          & 0          & 0          & 0          & 0         \\\\\n",
       "\t D550524    & 0.38028169 & 0          & 1          & 0          & 1          & 0          & 1          & 0          & 0          & ...        & 0          & 0          & 0          & 0          & 0          & 1          & 0          & 0          & 1          & 0         \\\\\n",
       "\t T490287    & 0.94366197 & 0          & 1          & 0          & 1          & 0          & 1          & 0          & 0          & ...        & 0          & 0          & 0          & 1          & 0          & 0          & 1          & 1          & 0          & 0         \\\\\n",
       "\t O377757    & 0.36619718 & 1          & 0          & 0          & 1          & 0          & 1          & 0          & 0          & ...        & 0          & 0          & 0          & 0          & 0          & 0          & 0          & 0          & 0          & 0         \\\\\n",
       "\t I745784    & 0.50704225 & 1          & 0          & 0          & 1          & 0          & 0          & 0          & 1          & ...        & 0          & 0          & 1          & 1          & 1          & 1          & 1          & 0          & 1          & 1         \\\\\n",
       "\t D139360    & 0.76056338 & 0          & 0          & 1          & 0          & 0          & 0          & 0          & 0          & ...        & 0          & 1          & 0          & 1          & 0          & 0          & 0          & 1          & 0          & 0         \\\\\n",
       "\t Y964627    & 0.92957746 & 1          & 1          & 0          & 0          & 1          & 0          & 0          & 0          & ...        & 0          & 0          & 0          & 1          & 0          & 1          & 0          & 0          & 0          & 1         \\\\\n",
       "\t J10137     & 0.47887324 & 0          & 1          & 0          & 0          & 1          & 0          & 0          & 0          & ...        & 0          & 0          & 0          & 1          & 0          & 1          & 1          & 1          & 1          & 0         \\\\\n",
       "\t S147737    & 0.18309859 & 0          & 0          & 0          & 0          & 1          & 0          & 0          & 0          & ...        & 0          & 1          & 0          & 1          & 0          & 1          & 0          & 0          & 1          & 0         \\\\\n",
       "\t K724599    & 0.80281690 & 0          & 0          & 0          & 1          & 0          & 0          & 1          & 0          & ...        & 0          & 1          & 0          & 0          & 1          & 0          & 1          & 0          & 0          & 0         \\\\\n",
       "\t O199825    & 0.42253521 & 0          & 0          & 1          & 0          & 0          & 1          & 0          & 0          & ...        & 0          & 0          & 0          & 1          & 1          & 0          & 0          & 0          & 0          & 1         \\\\\n",
       "\t M914791    & 0.73239437 & 0          & 0          & 0          & 0          & 1          & 1          & 0          & 0          & ...        & 0          & 0          & 0          & 0          & 0          & 0          & 0          & 0          & 1          & 0         \\\\\n",
       "\t S496387    & 0.53521127 & 1          & 0          & 1          & 0          & 0          & 0          & 0          & 1          & ...        & 0          & 0          & 0          & 0          & 0          & 1          & 1          & 1          & 0          & 0         \\\\\n",
       "\t C965691    & 0.19718310 & 1          & 0          & 0          & 0          & 1          & 0          & 0          & 0          & ...        & 0          & 1          & 0          & 0          & 0          & 1          & 1          & 0          & 1          & 0         \\\\\n",
       "\t S11597     & 0.84507042 & 1          & 0          & 0          & 1          & 0          & 1          & 0          & 0          & ...        & 0          & 0          & 0          & 0          & 0          & 1          & 0          & 0          & 0          & 0         \\\\\n",
       "\t Q95928     & 0.95774648 & 1          & 0          & 1          & 0          & 0          & 1          & 0          & 0          & ...        & 0          & 0          & 0          & 0          & 0          & 0          & 1          & 0          & 0          & 0         \\\\\n",
       "\t E326865    & 0.66197183 & 1          & 1          & 1          & 0          & 0          & 0          & 0          & 1          & ...        & 0          & 0          & 0          & 0          & 0          & 1          & 1          & 0          & 0          & 1         \\\\\n",
       "\t K669792    & 0.73239437 & 0          & 0          & 0          & 1          & 0          & 0          & 1          & 0          & ...        & 0          & 0          & 1          & 0          & 1          & 0          & 1          & 0          & 0          & 0         \\\\\n",
       "\t ... & ... & ... & ... & ... & ... & ... & ... & ... & ... &     & ... & ... & ... & ... & ... & ... & ... & ... & ... & ...\\\\\n",
       "\t D30724     & 0.54929577 & 1          & 1          & 0          & 1          & 0          & 0          & 0          & 1          & ...        & 1          & 1          & 0          & 1          & 0          & 1          & 0          & 0          & 1          & 0         \\\\\n",
       "\t Y380004    & 0.15492958 & 1          & 1          & 1          & 0          & 0          & 0          & 0          & 0          & ...        & 1          & 1          & 1          & 0          & 0          & 1          & 0          & 0          & 0          & 1         \\\\\n",
       "\t W296188    & 0.42253521 & 0          & 1          & 1          & 0          & 0          & 1          & 0          & 0          & ...        & 0          & 0          & 0          & 0          & 0          & 0          & 0          & 0          & 1          & 1         \\\\\n",
       "\t N684717    & 0.42253521 & 1          & 0          & 0          & 0          & 1          & 0          & 1          & 0          & ...        & 1          & 0          & 0          & 0          & 1          & 1          & 0          & 1          & 0          & 1         \\\\\n",
       "\t L462857    & 0.46478873 & 0          & 0          & 0          & 1          & 0          & 0          & 0          & 0          & ...        & 1          & 1          & 0          & 0          & 1          & 0          & 0          & 0          & 0          & 1         \\\\\n",
       "\t L241563    & 0.08450704 & 1          & 0          & 0          & 0          & 1          & 0          & 0          & 0          & ...        & 1          & 1          & 1          & 0          & 1          & 1          & 1          & 0          & 0          & 1         \\\\\n",
       "\t G350255    & 0.29577465 & 1          & 0          & 0          & 1          & 0          & 1          & 0          & 0          & ...        & 1          & 0          & 1          & 1          & 0          & 0          & 0          & 1          & 0          & 0         \\\\\n",
       "\t F162098    & 0.61971831 & 0          & 1          & 0          & 0          & 1          & 1          & 0          & 0          & ...        & 1          & 1          & 1          & 0          & 1          & 0          & 0          & 0          & 0          & 0         \\\\\n",
       "\t F450521    & 0.14084507 & 1          & 0          & 0          & 1          & 0          & 0          & 0          & 0          & ...        & 1          & 0          & 0          & 0          & 0          & 1          & 1          & 0          & 1          & 0         \\\\\n",
       "\t P861904    & 0.26760563 & 0          & 0          & 1          & 0          & 0          & 0          & 1          & 0          & ...        & 0          & 0          & 0          & 1          & 0          & 0          & 0          & 1          & 0          & 0         \\\\\n",
       "\t K874758    & 0.56338028 & 1          & 0          & 0          & 1          & 0          & 0          & 0          & 0          & ...        & 0          & 0          & 0          & 0          & 0          & 0          & 0          & 0          & 0          & 0         \\\\\n",
       "\t L875086    & 0.00000000 & 1          & 0          & 1          & 0          & 0          & 0          & 0          & 1          & ...        & 1          & 0          & 1          & 0          & 0          & 0          & 0          & 0          & 0          & 1         \\\\\n",
       "\t U876816    & 0.38028169 & 0          & 0          & 0          & 1          & 0          & 0          & 1          & 0          & ...        & 1          & 0          & 0          & 1          & 0          & 0          & 1          & 1          & 0          & 0         \\\\\n",
       "\t G252027    & 0.38028169 & 0          & 1          & 0          & 1          & 0          & 0          & 0          & 0          & ...        & 1          & 1          & 0          & 0          & 0          & 0          & 1          & 0          & 1          & 0         \\\\\n",
       "\t J280152    & 0.78873239 & 1          & 0          & 1          & 0          & 0          & 0          & 0          & 0          & ...        & 1          & 1          & 0          & 0          & 0          & 1          & 0          & 0          & 0          & 1         \\\\\n",
       "\t N576321    & 0.08450704 & 1          & 1          & 0          & 1          & 0          & 0          & 0          & 1          & ...        & 1          & 0          & 0          & 0          & 0          & 0          & 0          & 1          & 1          & 0         \\\\\n",
       "\t L948946    & 0.02816901 & 0          & 0          & 0          & 0          & 1          & 0          & 0          & 0          & ...        & 0          & 1          & 1          & 0          & 0          & 0          & 0          & 0          & 1          & 0         \\\\\n",
       "\t S614832    & 0.21126761 & 1          & 1          & 0          & 0          & 1          & 0          & 0          & 1          & ...        & 0          & 0          & 1          & 0          & 0          & 1          & 1          & 1          & 0          & 0         \\\\\n",
       "\t O64996     & 0.40845070 & 1          & 0          & 1          & 0          & 0          & 0          & 0          & 0          & ...        & 1          & 1          & 0          & 0          & 0          & 1          & 1          & 0          & 0          & 0         \\\\\n",
       "\t X601497    & 0.28169014 & 1          & 0          & 0          & 1          & 0          & 0          & 0          & 0          & ...        & 1          & 1          & 1          & 0          & 0          & 1          & 0          & 0          & 1          & 0         \\\\\n",
       "\t B175022    & 0.36619718 & 1          & 1          & 0          & 1          & 0          & 0          & 1          & 0          & ...        & 1          & 0          & 0          & 1          & 0          & 0          & 0          & 1          & 1          & 0         \\\\\n",
       "\t H670760    & 0.73239437 & 1          & 0          & 0          & 1          & 0          & 1          & 0          & 0          & ...        & 1          & 1          & 0          & 1          & 0          & 0          & 1          & 0          & 0          & 0         \\\\\n",
       "\t B610309    & 0.77464789 & 1          & 1          & 0          & 1          & 0          & 0          & 0          & 1          & ...        & 1          & 0          & 1          & 0          & 0          & 0          & 0          & 0          & 1          & 1         \\\\\n",
       "\t L715446    & 0.60563380 & 1          & 1          & 0          & 0          & 1          & 0          & 0          & 0          & ...        & 1          & 0          & 1          & 0          & 0          & 1          & 0          & 1          & 0          & 1         \\\\\n",
       "\t T523588    & 0.45070423 & 0          & 0          & 1          & 0          & 0          & 0          & 1          & 0          & ...        & 1          & 1          & 0          & 1          & 1          & 1          & 0          & 1          & 1          & 1         \\\\\n",
       "\t Q117805    & 0.91549296 & 1          & 0          & 0          & 0          & 1          & 0          & 1          & 0          & ...        & 0          & 1          & 0          & 0          & 0          & 1          & 0          & 0          & 0          & 0         \\\\\n",
       "\t M583491    & 0.71830986 & 0          & 0          & 0          & 0          & 1          & 0          & 0          & 0          & ...        & 0          & 0          & 0          & 1          & 0          & 0          & 0          & 0          & 1          & 1         \\\\\n",
       "\t B863060    & 0.09859155 & 0          & 1          & 0          & 0          & 1          & 0          & 0          & 0          & ...        & 0          & 1          & 0          & 0          & 0          & 0          & 0          & 0          & 1          & 0         \\\\\n",
       "\t P712040    & 0.97183099 & 1          & 0          & 0          & 0          & 1          & 0          & 0          & 0          & ...        & 1          & 1          & 0          & 1          & 1          & 0          & 0          & 0          & 0          & 1         \\\\\n",
       "\t E344109    & 0.35211268 & 1          & 0          & 1          & 0          & 0          & 1          & 0          & 0          & ...        & 1          & 0          & 0          & 0          & 0          & 0          & 1          & 0          & 0          & 0         \\\\\n",
       "\\end{tabular}\n"
      ],
      "text/markdown": [
       "\n",
       "| Customer_id | Age | Overweight | Anxiety | Area_Rural | Area_Suburban | Area_Urban | Marital_Divorced | Marital_Married | Marital_Never Married | ... | ReAdmis | HighBlood | Stroke | Arthritis | Diabetes | Hyperlipidemia | BackPain | Allergic_rhinitis | Reflux_esophagitis | Asthma |\n",
       "|---|---|---|---|---|---|---|---|---|---|---|---|---|---|---|---|---|---|---|---|---|\n",
       "| C412403    | 0.49295775 | 0          | 1          | 0          | 1          | 0          | 1          | 0          | 0          | ...        | 0          | 1          | 0          | 1          | 1          | 0          | 1          | 1          | 0          | 1          |\n",
       "| Z919181    | 0.46478873 | 1          | 0          | 0          | 0          | 1          | 0          | 1          | 0          | ...        | 0          | 1          | 0          | 0          | 0          | 0          | 0          | 0          | 1          | 0          |\n",
       "| F995323    | 0.49295775 | 1          | 0          | 0          | 1          | 0          | 0          | 0          | 0          | ...        | 0          | 1          | 0          | 0          | 1          | 0          | 0          | 0          | 0          | 0          |\n",
       "| A879973    | 0.84507042 | 0          | 0          | 0          | 1          | 0          | 0          | 1          | 0          | ...        | 0          | 0          | 1          | 1          | 0          | 0          | 0          | 0          | 1          | 1          |\n",
       "| C544523    | 0.05633803 | 0          | 0          | 1          | 0          | 0          | 0          | 0          | 0          | ...        | 0          | 0          | 0          | 0          | 0          | 1          | 0          | 1          | 0          | 0          |\n",
       "| S543885    | 0.81690141 | 1          | 0          | 0          | 0          | 1          | 0          | 0          | 1          | ...        | 0          | 0          | 0          | 1          | 1          | 0          | 1          | 1          | 0          | 0          |\n",
       "| E543302    | 0.45070423 | 1          | 1          | 1          | 0          | 0          | 0          | 0          | 1          | ...        | 0          | 1          | 0          | 1          | 1          | 1          | 1          | 0          | 1          | 0          |\n",
       "| K477307    | 0.30985915 | 1          | 0          | 0          | 0          | 1          | 1          | 0          | 0          | ...        | 0          | 0          | 0          | 0          | 0          | 0          | 0          | 0          | 0          | 0          |\n",
       "| Q870521    | 0.42253521 | 1          | 0          | 0          | 0          | 1          | 0          | 0          | 0          | ...        | 0          | 0          | 0          | 0          | 0          | 1          | 0          | 0          | 0          | 0          |\n",
       "| Z229385    | 0.84507042 | 1          | 0          | 0          | 0          | 1          | 0          | 0          | 1          | ...        | 0          | 1          | 0          | 0          | 0          | 0          | 0          | 1          | 1          | 1          |\n",
       "| V593392    | 0.52112676 | 1          | 0          | 0          | 0          | 1          | 0          | 1          | 0          | ...        | 0          | 1          | 0          | 0          | 0          | 0          | 1          | 0          | 1          | 1          |\n",
       "| X459469    | 0.64788732 | 1          | 0          | 0          | 1          | 0          | 1          | 0          | 0          | ...        | 0          | 1          | 1          | 0          | 0          | 0          | 1          | 1          | 1          | 0          |\n",
       "| N755131    | 0.32394366 | 1          | 1          | 0          | 0          | 1          | 0          | 0          | 0          | ...        | 0          | 0          | 0          | 0          | 1          | 1          | 0          | 0          | 0          | 0          |\n",
       "| D550524    | 0.38028169 | 0          | 1          | 0          | 1          | 0          | 1          | 0          | 0          | ...        | 0          | 0          | 0          | 0          | 0          | 1          | 0          | 0          | 1          | 0          |\n",
       "| T490287    | 0.94366197 | 0          | 1          | 0          | 1          | 0          | 1          | 0          | 0          | ...        | 0          | 0          | 0          | 1          | 0          | 0          | 1          | 1          | 0          | 0          |\n",
       "| O377757    | 0.36619718 | 1          | 0          | 0          | 1          | 0          | 1          | 0          | 0          | ...        | 0          | 0          | 0          | 0          | 0          | 0          | 0          | 0          | 0          | 0          |\n",
       "| I745784    | 0.50704225 | 1          | 0          | 0          | 1          | 0          | 0          | 0          | 1          | ...        | 0          | 0          | 1          | 1          | 1          | 1          | 1          | 0          | 1          | 1          |\n",
       "| D139360    | 0.76056338 | 0          | 0          | 1          | 0          | 0          | 0          | 0          | 0          | ...        | 0          | 1          | 0          | 1          | 0          | 0          | 0          | 1          | 0          | 0          |\n",
       "| Y964627    | 0.92957746 | 1          | 1          | 0          | 0          | 1          | 0          | 0          | 0          | ...        | 0          | 0          | 0          | 1          | 0          | 1          | 0          | 0          | 0          | 1          |\n",
       "| J10137     | 0.47887324 | 0          | 1          | 0          | 0          | 1          | 0          | 0          | 0          | ...        | 0          | 0          | 0          | 1          | 0          | 1          | 1          | 1          | 1          | 0          |\n",
       "| S147737    | 0.18309859 | 0          | 0          | 0          | 0          | 1          | 0          | 0          | 0          | ...        | 0          | 1          | 0          | 1          | 0          | 1          | 0          | 0          | 1          | 0          |\n",
       "| K724599    | 0.80281690 | 0          | 0          | 0          | 1          | 0          | 0          | 1          | 0          | ...        | 0          | 1          | 0          | 0          | 1          | 0          | 1          | 0          | 0          | 0          |\n",
       "| O199825    | 0.42253521 | 0          | 0          | 1          | 0          | 0          | 1          | 0          | 0          | ...        | 0          | 0          | 0          | 1          | 1          | 0          | 0          | 0          | 0          | 1          |\n",
       "| M914791    | 0.73239437 | 0          | 0          | 0          | 0          | 1          | 1          | 0          | 0          | ...        | 0          | 0          | 0          | 0          | 0          | 0          | 0          | 0          | 1          | 0          |\n",
       "| S496387    | 0.53521127 | 1          | 0          | 1          | 0          | 0          | 0          | 0          | 1          | ...        | 0          | 0          | 0          | 0          | 0          | 1          | 1          | 1          | 0          | 0          |\n",
       "| C965691    | 0.19718310 | 1          | 0          | 0          | 0          | 1          | 0          | 0          | 0          | ...        | 0          | 1          | 0          | 0          | 0          | 1          | 1          | 0          | 1          | 0          |\n",
       "| S11597     | 0.84507042 | 1          | 0          | 0          | 1          | 0          | 1          | 0          | 0          | ...        | 0          | 0          | 0          | 0          | 0          | 1          | 0          | 0          | 0          | 0          |\n",
       "| Q95928     | 0.95774648 | 1          | 0          | 1          | 0          | 0          | 1          | 0          | 0          | ...        | 0          | 0          | 0          | 0          | 0          | 0          | 1          | 0          | 0          | 0          |\n",
       "| E326865    | 0.66197183 | 1          | 1          | 1          | 0          | 0          | 0          | 0          | 1          | ...        | 0          | 0          | 0          | 0          | 0          | 1          | 1          | 0          | 0          | 1          |\n",
       "| K669792    | 0.73239437 | 0          | 0          | 0          | 1          | 0          | 0          | 1          | 0          | ...        | 0          | 0          | 1          | 0          | 1          | 0          | 1          | 0          | 0          | 0          |\n",
       "| ... | ... | ... | ... | ... | ... | ... | ... | ... | ... |     | ... | ... | ... | ... | ... | ... | ... | ... | ... | ... |\n",
       "| D30724     | 0.54929577 | 1          | 1          | 0          | 1          | 0          | 0          | 0          | 1          | ...        | 1          | 1          | 0          | 1          | 0          | 1          | 0          | 0          | 1          | 0          |\n",
       "| Y380004    | 0.15492958 | 1          | 1          | 1          | 0          | 0          | 0          | 0          | 0          | ...        | 1          | 1          | 1          | 0          | 0          | 1          | 0          | 0          | 0          | 1          |\n",
       "| W296188    | 0.42253521 | 0          | 1          | 1          | 0          | 0          | 1          | 0          | 0          | ...        | 0          | 0          | 0          | 0          | 0          | 0          | 0          | 0          | 1          | 1          |\n",
       "| N684717    | 0.42253521 | 1          | 0          | 0          | 0          | 1          | 0          | 1          | 0          | ...        | 1          | 0          | 0          | 0          | 1          | 1          | 0          | 1          | 0          | 1          |\n",
       "| L462857    | 0.46478873 | 0          | 0          | 0          | 1          | 0          | 0          | 0          | 0          | ...        | 1          | 1          | 0          | 0          | 1          | 0          | 0          | 0          | 0          | 1          |\n",
       "| L241563    | 0.08450704 | 1          | 0          | 0          | 0          | 1          | 0          | 0          | 0          | ...        | 1          | 1          | 1          | 0          | 1          | 1          | 1          | 0          | 0          | 1          |\n",
       "| G350255    | 0.29577465 | 1          | 0          | 0          | 1          | 0          | 1          | 0          | 0          | ...        | 1          | 0          | 1          | 1          | 0          | 0          | 0          | 1          | 0          | 0          |\n",
       "| F162098    | 0.61971831 | 0          | 1          | 0          | 0          | 1          | 1          | 0          | 0          | ...        | 1          | 1          | 1          | 0          | 1          | 0          | 0          | 0          | 0          | 0          |\n",
       "| F450521    | 0.14084507 | 1          | 0          | 0          | 1          | 0          | 0          | 0          | 0          | ...        | 1          | 0          | 0          | 0          | 0          | 1          | 1          | 0          | 1          | 0          |\n",
       "| P861904    | 0.26760563 | 0          | 0          | 1          | 0          | 0          | 0          | 1          | 0          | ...        | 0          | 0          | 0          | 1          | 0          | 0          | 0          | 1          | 0          | 0          |\n",
       "| K874758    | 0.56338028 | 1          | 0          | 0          | 1          | 0          | 0          | 0          | 0          | ...        | 0          | 0          | 0          | 0          | 0          | 0          | 0          | 0          | 0          | 0          |\n",
       "| L875086    | 0.00000000 | 1          | 0          | 1          | 0          | 0          | 0          | 0          | 1          | ...        | 1          | 0          | 1          | 0          | 0          | 0          | 0          | 0          | 0          | 1          |\n",
       "| U876816    | 0.38028169 | 0          | 0          | 0          | 1          | 0          | 0          | 1          | 0          | ...        | 1          | 0          | 0          | 1          | 0          | 0          | 1          | 1          | 0          | 0          |\n",
       "| G252027    | 0.38028169 | 0          | 1          | 0          | 1          | 0          | 0          | 0          | 0          | ...        | 1          | 1          | 0          | 0          | 0          | 0          | 1          | 0          | 1          | 0          |\n",
       "| J280152    | 0.78873239 | 1          | 0          | 1          | 0          | 0          | 0          | 0          | 0          | ...        | 1          | 1          | 0          | 0          | 0          | 1          | 0          | 0          | 0          | 1          |\n",
       "| N576321    | 0.08450704 | 1          | 1          | 0          | 1          | 0          | 0          | 0          | 1          | ...        | 1          | 0          | 0          | 0          | 0          | 0          | 0          | 1          | 1          | 0          |\n",
       "| L948946    | 0.02816901 | 0          | 0          | 0          | 0          | 1          | 0          | 0          | 0          | ...        | 0          | 1          | 1          | 0          | 0          | 0          | 0          | 0          | 1          | 0          |\n",
       "| S614832    | 0.21126761 | 1          | 1          | 0          | 0          | 1          | 0          | 0          | 1          | ...        | 0          | 0          | 1          | 0          | 0          | 1          | 1          | 1          | 0          | 0          |\n",
       "| O64996     | 0.40845070 | 1          | 0          | 1          | 0          | 0          | 0          | 0          | 0          | ...        | 1          | 1          | 0          | 0          | 0          | 1          | 1          | 0          | 0          | 0          |\n",
       "| X601497    | 0.28169014 | 1          | 0          | 0          | 1          | 0          | 0          | 0          | 0          | ...        | 1          | 1          | 1          | 0          | 0          | 1          | 0          | 0          | 1          | 0          |\n",
       "| B175022    | 0.36619718 | 1          | 1          | 0          | 1          | 0          | 0          | 1          | 0          | ...        | 1          | 0          | 0          | 1          | 0          | 0          | 0          | 1          | 1          | 0          |\n",
       "| H670760    | 0.73239437 | 1          | 0          | 0          | 1          | 0          | 1          | 0          | 0          | ...        | 1          | 1          | 0          | 1          | 0          | 0          | 1          | 0          | 0          | 0          |\n",
       "| B610309    | 0.77464789 | 1          | 1          | 0          | 1          | 0          | 0          | 0          | 1          | ...        | 1          | 0          | 1          | 0          | 0          | 0          | 0          | 0          | 1          | 1          |\n",
       "| L715446    | 0.60563380 | 1          | 1          | 0          | 0          | 1          | 0          | 0          | 0          | ...        | 1          | 0          | 1          | 0          | 0          | 1          | 0          | 1          | 0          | 1          |\n",
       "| T523588    | 0.45070423 | 0          | 0          | 1          | 0          | 0          | 0          | 1          | 0          | ...        | 1          | 1          | 0          | 1          | 1          | 1          | 0          | 1          | 1          | 1          |\n",
       "| Q117805    | 0.91549296 | 1          | 0          | 0          | 0          | 1          | 0          | 1          | 0          | ...        | 0          | 1          | 0          | 0          | 0          | 1          | 0          | 0          | 0          | 0          |\n",
       "| M583491    | 0.71830986 | 0          | 0          | 0          | 0          | 1          | 0          | 0          | 0          | ...        | 0          | 0          | 0          | 1          | 0          | 0          | 0          | 0          | 1          | 1          |\n",
       "| B863060    | 0.09859155 | 0          | 1          | 0          | 0          | 1          | 0          | 0          | 0          | ...        | 0          | 1          | 0          | 0          | 0          | 0          | 0          | 0          | 1          | 0          |\n",
       "| P712040    | 0.97183099 | 1          | 0          | 0          | 0          | 1          | 0          | 0          | 0          | ...        | 1          | 1          | 0          | 1          | 1          | 0          | 0          | 0          | 0          | 1          |\n",
       "| E344109    | 0.35211268 | 1          | 0          | 1          | 0          | 0          | 1          | 0          | 0          | ...        | 1          | 0          | 0          | 0          | 0          | 0          | 1          | 0          | 0          | 0          |\n",
       "\n"
      ],
      "text/plain": [
       "     Customer_id Age        Overweight Anxiety Area_Rural Area_Suburban\n",
       "1    C412403     0.49295775 0          1       0          1            \n",
       "2    Z919181     0.46478873 1          0       0          0            \n",
       "3    F995323     0.49295775 1          0       0          1            \n",
       "4    A879973     0.84507042 0          0       0          1            \n",
       "5    C544523     0.05633803 0          0       1          0            \n",
       "6    S543885     0.81690141 1          0       0          0            \n",
       "7    E543302     0.45070423 1          1       1          0            \n",
       "8    K477307     0.30985915 1          0       0          0            \n",
       "9    Q870521     0.42253521 1          0       0          0            \n",
       "10   Z229385     0.84507042 1          0       0          0            \n",
       "11   V593392     0.52112676 1          0       0          0            \n",
       "12   X459469     0.64788732 1          0       0          1            \n",
       "13   N755131     0.32394366 1          1       0          0            \n",
       "14   D550524     0.38028169 0          1       0          1            \n",
       "15   T490287     0.94366197 0          1       0          1            \n",
       "16   O377757     0.36619718 1          0       0          1            \n",
       "17   I745784     0.50704225 1          0       0          1            \n",
       "18   D139360     0.76056338 0          0       1          0            \n",
       "19   Y964627     0.92957746 1          1       0          0            \n",
       "20   J10137      0.47887324 0          1       0          0            \n",
       "21   S147737     0.18309859 0          0       0          0            \n",
       "22   K724599     0.80281690 0          0       0          1            \n",
       "23   O199825     0.42253521 0          0       1          0            \n",
       "24   M914791     0.73239437 0          0       0          0            \n",
       "25   S496387     0.53521127 1          0       1          0            \n",
       "26   C965691     0.19718310 1          0       0          0            \n",
       "27   S11597      0.84507042 1          0       0          1            \n",
       "28   Q95928      0.95774648 1          0       1          0            \n",
       "29   E326865     0.66197183 1          1       1          0            \n",
       "30   K669792     0.73239437 0          0       0          1            \n",
       "...  ...         ...        ...        ...     ...        ...          \n",
       "7557 D30724      0.54929577 1          1       0          1            \n",
       "7558 Y380004     0.15492958 1          1       1          0            \n",
       "7559 W296188     0.42253521 0          1       1          0            \n",
       "7560 N684717     0.42253521 1          0       0          0            \n",
       "7561 L462857     0.46478873 0          0       0          1            \n",
       "7562 L241563     0.08450704 1          0       0          0            \n",
       "7563 G350255     0.29577465 1          0       0          1            \n",
       "7564 F162098     0.61971831 0          1       0          0            \n",
       "7565 F450521     0.14084507 1          0       0          1            \n",
       "7566 P861904     0.26760563 0          0       1          0            \n",
       "7567 K874758     0.56338028 1          0       0          1            \n",
       "7568 L875086     0.00000000 1          0       1          0            \n",
       "7569 U876816     0.38028169 0          0       0          1            \n",
       "7570 G252027     0.38028169 0          1       0          1            \n",
       "7571 J280152     0.78873239 1          0       1          0            \n",
       "7572 N576321     0.08450704 1          1       0          1            \n",
       "7573 L948946     0.02816901 0          0       0          0            \n",
       "7574 S614832     0.21126761 1          1       0          0            \n",
       "7575 O64996      0.40845070 1          0       1          0            \n",
       "7576 X601497     0.28169014 1          0       0          1            \n",
       "7577 B175022     0.36619718 1          1       0          1            \n",
       "7578 H670760     0.73239437 1          0       0          1            \n",
       "7579 B610309     0.77464789 1          1       0          1            \n",
       "7580 L715446     0.60563380 1          1       0          0            \n",
       "7581 T523588     0.45070423 0          0       1          0            \n",
       "7582 Q117805     0.91549296 1          0       0          0            \n",
       "7583 M583491     0.71830986 0          0       0          0            \n",
       "7584 B863060     0.09859155 0          1       0          0            \n",
       "7585 P712040     0.97183099 1          0       0          0            \n",
       "7586 E344109     0.35211268 1          0       1          0            \n",
       "     Area_Urban Marital_Divorced Marital_Married Marital_Never Married ...\n",
       "1    0          1                0               0                     ...\n",
       "2    1          0                1               0                     ...\n",
       "3    0          0                0               0                     ...\n",
       "4    0          0                1               0                     ...\n",
       "5    0          0                0               0                     ...\n",
       "6    1          0                0               1                     ...\n",
       "7    0          0                0               1                     ...\n",
       "8    1          1                0               0                     ...\n",
       "9    1          0                0               0                     ...\n",
       "10   1          0                0               1                     ...\n",
       "11   1          0                1               0                     ...\n",
       "12   0          1                0               0                     ...\n",
       "13   1          0                0               0                     ...\n",
       "14   0          1                0               0                     ...\n",
       "15   0          1                0               0                     ...\n",
       "16   0          1                0               0                     ...\n",
       "17   0          0                0               1                     ...\n",
       "18   0          0                0               0                     ...\n",
       "19   1          0                0               0                     ...\n",
       "20   1          0                0               0                     ...\n",
       "21   1          0                0               0                     ...\n",
       "22   0          0                1               0                     ...\n",
       "23   0          1                0               0                     ...\n",
       "24   1          1                0               0                     ...\n",
       "25   0          0                0               1                     ...\n",
       "26   1          0                0               0                     ...\n",
       "27   0          1                0               0                     ...\n",
       "28   0          1                0               0                     ...\n",
       "29   0          0                0               1                     ...\n",
       "30   0          0                1               0                     ...\n",
       "...  ...        ...              ...             ...                      \n",
       "7557 0          0                0               1                     ...\n",
       "7558 0          0                0               0                     ...\n",
       "7559 0          1                0               0                     ...\n",
       "7560 1          0                1               0                     ...\n",
       "7561 0          0                0               0                     ...\n",
       "7562 1          0                0               0                     ...\n",
       "7563 0          1                0               0                     ...\n",
       "7564 1          1                0               0                     ...\n",
       "7565 0          0                0               0                     ...\n",
       "7566 0          0                1               0                     ...\n",
       "7567 0          0                0               0                     ...\n",
       "7568 0          0                0               1                     ...\n",
       "7569 0          0                1               0                     ...\n",
       "7570 0          0                0               0                     ...\n",
       "7571 0          0                0               0                     ...\n",
       "7572 0          0                0               1                     ...\n",
       "7573 1          0                0               0                     ...\n",
       "7574 1          0                0               1                     ...\n",
       "7575 0          0                0               0                     ...\n",
       "7576 0          0                0               0                     ...\n",
       "7577 0          0                1               0                     ...\n",
       "7578 0          1                0               0                     ...\n",
       "7579 0          0                0               1                     ...\n",
       "7580 1          0                0               0                     ...\n",
       "7581 0          0                1               0                     ...\n",
       "7582 1          0                1               0                     ...\n",
       "7583 1          0                0               0                     ...\n",
       "7584 1          0                0               0                     ...\n",
       "7585 1          0                0               0                     ...\n",
       "7586 0          1                0               0                     ...\n",
       "     ReAdmis HighBlood Stroke Arthritis Diabetes Hyperlipidemia BackPain\n",
       "1    0       1         0      1         1        0              1       \n",
       "2    0       1         0      0         0        0              0       \n",
       "3    0       1         0      0         1        0              0       \n",
       "4    0       0         1      1         0        0              0       \n",
       "5    0       0         0      0         0        1              0       \n",
       "6    0       0         0      1         1        0              1       \n",
       "7    0       1         0      1         1        1              1       \n",
       "8    0       0         0      0         0        0              0       \n",
       "9    0       0         0      0         0        1              0       \n",
       "10   0       1         0      0         0        0              0       \n",
       "11   0       1         0      0         0        0              1       \n",
       "12   0       1         1      0         0        0              1       \n",
       "13   0       0         0      0         1        1              0       \n",
       "14   0       0         0      0         0        1              0       \n",
       "15   0       0         0      1         0        0              1       \n",
       "16   0       0         0      0         0        0              0       \n",
       "17   0       0         1      1         1        1              1       \n",
       "18   0       1         0      1         0        0              0       \n",
       "19   0       0         0      1         0        1              0       \n",
       "20   0       0         0      1         0        1              1       \n",
       "21   0       1         0      1         0        1              0       \n",
       "22   0       1         0      0         1        0              1       \n",
       "23   0       0         0      1         1        0              0       \n",
       "24   0       0         0      0         0        0              0       \n",
       "25   0       0         0      0         0        1              1       \n",
       "26   0       1         0      0         0        1              1       \n",
       "27   0       0         0      0         0        1              0       \n",
       "28   0       0         0      0         0        0              1       \n",
       "29   0       0         0      0         0        1              1       \n",
       "30   0       0         1      0         1        0              1       \n",
       "...  ...     ...       ...    ...       ...      ...            ...     \n",
       "7557 1       1         0      1         0        1              0       \n",
       "7558 1       1         1      0         0        1              0       \n",
       "7559 0       0         0      0         0        0              0       \n",
       "7560 1       0         0      0         1        1              0       \n",
       "7561 1       1         0      0         1        0              0       \n",
       "7562 1       1         1      0         1        1              1       \n",
       "7563 1       0         1      1         0        0              0       \n",
       "7564 1       1         1      0         1        0              0       \n",
       "7565 1       0         0      0         0        1              1       \n",
       "7566 0       0         0      1         0        0              0       \n",
       "7567 0       0         0      0         0        0              0       \n",
       "7568 1       0         1      0         0        0              0       \n",
       "7569 1       0         0      1         0        0              1       \n",
       "7570 1       1         0      0         0        0              1       \n",
       "7571 1       1         0      0         0        1              0       \n",
       "7572 1       0         0      0         0        0              0       \n",
       "7573 0       1         1      0         0        0              0       \n",
       "7574 0       0         1      0         0        1              1       \n",
       "7575 1       1         0      0         0        1              1       \n",
       "7576 1       1         1      0         0        1              0       \n",
       "7577 1       0         0      1         0        0              0       \n",
       "7578 1       1         0      1         0        0              1       \n",
       "7579 1       0         1      0         0        0              0       \n",
       "7580 1       0         1      0         0        1              0       \n",
       "7581 1       1         0      1         1        1              0       \n",
       "7582 0       1         0      0         0        1              0       \n",
       "7583 0       0         0      1         0        0              0       \n",
       "7584 0       1         0      0         0        0              0       \n",
       "7585 1       1         0      1         1        0              0       \n",
       "7586 1       0         0      0         0        0              1       \n",
       "     Allergic_rhinitis Reflux_esophagitis Asthma\n",
       "1    1                 0                  1     \n",
       "2    0                 1                  0     \n",
       "3    0                 0                  0     \n",
       "4    0                 1                  1     \n",
       "5    1                 0                  0     \n",
       "6    1                 0                  0     \n",
       "7    0                 1                  0     \n",
       "8    0                 0                  0     \n",
       "9    0                 0                  0     \n",
       "10   1                 1                  1     \n",
       "11   0                 1                  1     \n",
       "12   1                 1                  0     \n",
       "13   0                 0                  0     \n",
       "14   0                 1                  0     \n",
       "15   1                 0                  0     \n",
       "16   0                 0                  0     \n",
       "17   0                 1                  1     \n",
       "18   1                 0                  0     \n",
       "19   0                 0                  1     \n",
       "20   1                 1                  0     \n",
       "21   0                 1                  0     \n",
       "22   0                 0                  0     \n",
       "23   0                 0                  1     \n",
       "24   0                 1                  0     \n",
       "25   1                 0                  0     \n",
       "26   0                 1                  0     \n",
       "27   0                 0                  0     \n",
       "28   0                 0                  0     \n",
       "29   0                 0                  1     \n",
       "30   0                 0                  0     \n",
       "...  ...               ...                ...   \n",
       "7557 0                 1                  0     \n",
       "7558 0                 0                  1     \n",
       "7559 0                 1                  1     \n",
       "7560 1                 0                  1     \n",
       "7561 0                 0                  1     \n",
       "7562 0                 0                  1     \n",
       "7563 1                 0                  0     \n",
       "7564 0                 0                  0     \n",
       "7565 0                 1                  0     \n",
       "7566 1                 0                  0     \n",
       "7567 0                 0                  0     \n",
       "7568 0                 0                  1     \n",
       "7569 1                 0                  0     \n",
       "7570 0                 1                  0     \n",
       "7571 0                 0                  1     \n",
       "7572 1                 1                  0     \n",
       "7573 0                 1                  0     \n",
       "7574 1                 0                  0     \n",
       "7575 0                 0                  0     \n",
       "7576 0                 1                  0     \n",
       "7577 1                 1                  0     \n",
       "7578 0                 0                  0     \n",
       "7579 0                 1                  1     \n",
       "7580 1                 0                  1     \n",
       "7581 1                 1                  1     \n",
       "7582 0                 0                  0     \n",
       "7583 0                 1                  1     \n",
       "7584 0                 1                  0     \n",
       "7585 0                 0                  1     \n",
       "7586 0                 0                  0     "
      ]
     },
     "metadata": {},
     "output_type": "display_data"
    }
   ],
   "source": [
    "joined_tot"
   ]
  },
  {
   "cell_type": "markdown",
   "id": "afd91009",
   "metadata": {},
   "source": [
    "# Exporting the Cleaned Dataset"
   ]
  },
  {
   "cell_type": "code",
   "execution_count": 19,
   "id": "6db4147c",
   "metadata": {},
   "outputs": [],
   "source": [
    "write.csv(joined_tot, \"medical_data_cleaned.csv\")"
   ]
  },
  {
   "cell_type": "markdown",
   "id": "345ca1b7",
   "metadata": {},
   "source": [
    "# Principal Component Analysis"
   ]
  },
  {
   "cell_type": "code",
   "execution_count": 20,
   "id": "0e5dd994",
   "metadata": {},
   "outputs": [
    {
     "data": {
      "text/plain": [
       "Importance of components:\n",
       "                           PC1     PC2     PC3     PC4     PC5     PC6     PC7\n",
       "Standard deviation     1.40255 1.22975 1.22584 1.12912 1.12478 1.12114 1.11963\n",
       "Proportion of Variance 0.07286 0.05601 0.05566 0.04722 0.04686 0.04655 0.04643\n",
       "Cumulative Proportion  0.07286 0.12887 0.18452 0.23174 0.27860 0.32515 0.37158\n",
       "                           PC8    PC9    PC10    PC11    PC12    PC13   PC14\n",
       "Standard deviation     1.03888 1.0327 1.02184 1.02061 1.01459 1.01359 1.0089\n",
       "Proportion of Variance 0.03997 0.0395 0.03867 0.03858 0.03813 0.03805 0.0377\n",
       "Cumulative Proportion  0.41155 0.4511 0.48972 0.52830 0.56643 0.60448 0.6422\n",
       "                          PC15    PC16    PC17    PC18    PC19    PC20    PC21\n",
       "Standard deviation     1.00236 0.99669 0.99422 0.99035 0.98513 0.98222 0.97821\n",
       "Proportion of Variance 0.03721 0.03679 0.03661 0.03633 0.03594 0.03573 0.03544\n",
       "Cumulative Proportion  0.67939 0.71619 0.75280 0.78912 0.82507 0.86080 0.89624\n",
       "                          PC22   PC23    PC24      PC25      PC26      PC27\n",
       "Standard deviation     0.97314 0.9693 0.95652 1.279e-15 1.155e-15 2.284e-16\n",
       "Proportion of Variance 0.03507 0.0348 0.03389 0.000e+00 0.000e+00 0.000e+00\n",
       "Cumulative Proportion  0.93131 0.9661 1.00000 1.000e+00 1.000e+00 1.000e+00"
      ]
     },
     "metadata": {},
     "output_type": "display_data"
    }
   ],
   "source": [
    "joined_tot.pca <- prcomp(joined_tot[,2:28], center=TRUE, scale=TRUE)\n",
    "summary(joined_tot.pca)"
   ]
  },
  {
   "cell_type": "code",
   "execution_count": null,
   "id": "0a1c1e58",
   "metadata": {},
   "outputs": [],
   "source": []
  }
 ],
 "metadata": {
  "kernelspec": {
   "display_name": "R",
   "language": "R",
   "name": "ir"
  },
  "language_info": {
   "codemirror_mode": "r",
   "file_extension": ".r",
   "mimetype": "text/x-r-source",
   "name": "R",
   "pygments_lexer": "r",
   "version": "3.6.1"
  }
 },
 "nbformat": 4,
 "nbformat_minor": 5
}
